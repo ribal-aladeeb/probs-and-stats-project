{
 "cells": [
  {
   "cell_type": "markdown",
   "metadata": {},
   "source": [
    "# Probability and Statistics Report"
   ]
  },
  {
   "cell_type": "markdown",
   "metadata": {},
   "source": [
    "## Introduction"
   ]
  },
  {
   "cell_type": "markdown",
   "metadata": {},
   "source": [
    "Our team is interested in analysing what factors positively or negatively affect academic success of university students. In our proposal, we explained that we wanted to collect multiple habits and metrics from students and analyse how each of those metrics have an impact of GPA. However, after learning about hypothesis testing we realised that our hypthesis was wrongly formulated and outside the scope and requirements of this project. So we revised our hypothesis.\n",
    "<br><br>\n",
    "Lets, start from the begining. Our target population is undergraduate university students who attend any of the following universities schools: Concordia, McGill, UQAM, UdeM, Sherbrooke. The feature we are interesting in investigating is GPA. \n",
    "<br><br>\n",
    "We created a survey and asked the following questions:\n",
    "<br>\n",
    "1. What faculty are you in?\n",
    "\n",
    "2. On average how many courses do you take per semester? (only take into account fall/winter semesters)\n",
    "\n",
    "3. How many hours do you work per week at a job unrelated to school?\n",
    "\n",
    "4. On average, how many days in a week do you not study at all? By studying we mean any work that you do for school. Don't include attending lectures/tutorials/labs\n",
    "5. On a day that you do study, how many hours do you study?\n",
    "6. What is the scale of your GPA (out of 4.3 or 4.0)?\n",
    "7. Finally, what is your gpa?\n",
    "\n",
    "After a lot of discussion and asking around, we made an educated guess that the average GPA is 3.2\n",
    "\n"
   ]
  },
  {
   "cell_type": "markdown",
   "metadata": {},
   "source": [
    "## Data pre-processing\n",
    "Before starting any numerical analysis, we have to clean the collected data so that it is ready for statistical analysis. \n",
    "<br>\n",
    "Below is just some boiler plate code importing the libraries that we need and performing some setup.\n",
    "<br><br>\n",
    "You can skip to our *Statistical analysis* section.\n"
   ]
  },
  {
   "cell_type": "code",
   "execution_count": 28,
   "metadata": {},
   "outputs": [],
   "source": [
    "import pandas as pd\n",
    "import numpy as np\n",
    "from numpy.polynomial.polynomial import polyfit\n",
    "\n",
    "from matplotlib import pyplot as plt\n",
    "\n",
    "import math\n",
    "import csv\n",
    "import scipy.stats as stats\n",
    "\n",
    "Z_from_probability = stats.norm.ppf\n",
    "probability_of_Z = stats.norm.cdf\n",
    "\n",
    "# list respondents who gave fake answers or made mistakes in answering.\n",
    "# They have to be removed from the analysis in order not to skew the results\n",
    "blacklisted_emails = [\n",
    "    'CleanYourData@Hal3anneh.com',\n",
    "    'nope@hotmail.com',\n",
    "    'eyePISSEDandFARDEDandSHIDDEDandCAMEallOVERthePLACE@lmao.pwned.com',\n",
    "    'chadi.sargi@gmail.com'\n",
    "]\n",
    "\n",
    "original_survey = \"./data/condensed.actual.latest.csv\"\n",
    "numerical_survey = './data/condensed.numerical.latest.csv'"
   ]
  },
  {
   "cell_type": "markdown",
   "metadata": {},
   "source": [
    "### Cleaning Data\n",
    "This function cleans the data from the csv file. We remove all emails for anonymity and unecessary metadata."
   ]
  },
  {
   "cell_type": "code",
   "execution_count": 31,
   "metadata": {},
   "outputs": [],
   "source": [
    "def clean(survey_filename: str):\n",
    "    '''\n",
    "    Remove the data points where people purpusefully tried to lie.\n",
    "    Remove all metadata unrelated to business logic\n",
    "    '''\n",
    "    file = survey_filename\n",
    "    numerical_raw_survey = pd.read_csv(file)\n",
    "    total_rows = len(numerical_raw_survey.index)\n",
    "\n",
    "    #print(total_rows)\n",
    "\n",
    "    indexes_to_be_removed = []\n",
    "\n",
    "    for i in range(1, total_rows):\n",
    "        email_of_respondent = numerical_raw_survey.iloc[i, 17]\n",
    "        gpa_of_respondent = float(numerical_raw_survey.iloc[i, 16])\n",
    "        if email_of_respondent in blacklisted_emails or gpa_of_respondent <= 0.1:\n",
    "            indexes_to_be_removed.append(i)\n",
    "\n",
    "    numerical_raw_survey = numerical_raw_survey.drop(\n",
    "        axis=0, index=indexes_to_be_removed)\n",
    "    #print(len(numerical_raw_survey.index))\n",
    "\n",
    "    # only keep answers to survey questions, exclude the faculty question\n",
    "    # 17 is the index of the email column\n",
    "    responses = numerical_raw_survey.iloc[1:, list(range(11, 17))]\n",
    "\n",
    "    # cast string entries to float\n",
    "    responses = pd.DataFrame.astype(responses, float)\n",
    "    return responses\n",
    "\n",
    "\n",
    "\n",
    "\n",
    "# Generate the dataframe object to be analysed\n",
    "data = clean(numerical_survey)"
   ]
  },
  {
   "cell_type": "markdown",
   "metadata": {},
   "source": [
    "## Statistical analysis\n"
   ]
  },
  {
   "cell_type": "markdown",
   "metadata": {},
   "source": [
    "#### First, let's just plot the GPAs on the y-axis against the respondents on the x-axis\n",
    "i.e. a point (x,y) just means that the x-th respondent has a GPA of y"
   ]
  },
  {
   "cell_type": "code",
   "execution_count": 30,
   "metadata": {},
   "outputs": [
    {
     "data": {
      "image/png": "[encoded data removed]",
      "text/plain": [
       "<Figure size 432x288 with 1 Axes>"
      ]
     },
     "metadata": {
      "needs_background": "light"
     },
     "output_type": "display_data"
    }
   ],
   "source": [
    "def plot_gpas_alone(data):\n",
    "    questions = data.columns\n",
    "    plt.plot(data[questions[5]], 'ro')\n",
    "    plt.show()\n",
    "\n",
    "plot_gpas_alone(data)"
   ]
  },
  {
   "cell_type": "markdown",
   "metadata": {},
   "source": [
    "You can see that the lowest gpas are a little bellow 2 and the highest is 4.3 with a little over 200 respondents"
   ]
  },
  {
   "cell_type": "markdown",
   "metadata": {},
   "source": [
    "### Basic sample attributes\n",
    "Next up, we write the code for extracting crucial information for our analysis. Namely, we are looking for sample mean, variance, standard deviation, and median."
   ]
  },
  {
   "cell_type": "code",
   "execution_count": 32,
   "metadata": {},
   "outputs": [],
   "source": [
    "# extract GPAs from dataframe\n",
    "def gpa_list(data):\n",
    "    return list(data.iloc[:, 5])\n",
    "\n",
    "def sample_size(data):\n",
    "    return len(data.index)\n",
    "\n",
    "def mean_gpa(data):\n",
    "    gpas = gpa_list(data)\n",
    "    sample_mean = sum(gpas)/len(gpas)\n",
    "    return sample_mean\n",
    "\n",
    "\n",
    "def sample_gpa_variance(data):\n",
    "    # Extract gpas as numpy array to propagate math operations without looping\n",
    "    # over each element.\n",
    "    gpas = np.array(gpa_list(data))\n",
    "    variance = (sum(gpas**2) - sum(gpas)**2/len(gpas)) / (len(gpas)-1)\n",
    "    return variance\n",
    "\n",
    "\n",
    "def std_dev_gpa(data):\n",
    "    return math.sqrt(sample_gpa_variance(data))\n",
    "\n",
    "\n",
    "def median_gpa(data):\n",
    "    gpas = gpa_list(data)\n",
    "    midpoint = int(len(gpas)/2)\n",
    "    if len(gpas) % 2 == 0:\n",
    "        return gpas[midpoint]\n",
    "    lower = gpas[midpoint]\n",
    "    upper = gpas[midpoint+1]\n",
    "    median = (lower+upper)/2\n",
    "    return median\n"
   ]
  },
  {
   "cell_type": "markdown",
   "metadata": {},
   "source": [
    "#### Now let's compute them and print them\n",
    "$\\bar{x}$, $S^{2}$, $S$ and median are show below: "
   ]
  },
  {
   "cell_type": "code",
   "execution_count": 35,
   "metadata": {},
   "outputs": [
    {
     "name": "stdout",
     "output_type": "stream",
     "text": [
      "sample size: 206\n",
      "mean: 3.289\n",
      "variance: 0.269\n",
      "standard dev: 0.518\n",
      "median: 3.4\n"
     ]
    }
   ],
   "source": [
    "n = sample_size(data)\n",
    "xbar = round(mean_gpa(data),3)\n",
    "S_squared = round(sample_gpa_variance(data),3)\n",
    "S = round(std_dev_gpa(data),3)\n",
    "\n",
    "print(\"sample size:\", n)\n",
    "print(\"mean:\", xbar)\n",
    "print(\"variance:\", S_squared)\n",
    "print(\"standard dev:\", S)\n",
    "print(\"median:\", median_gpa(data))"
   ]
  },
  {
   "cell_type": "code",
   "execution_count": 10,
   "metadata": {},
   "outputs": [],
   "source": [
    "\n",
    "def calculate_Z_value(mu0, X_bar, S, n):\n",
    "    # because our sample size is greater than 200, we feel confident of\n",
    "    # estimating sigma using S. In this way we can use the Z-distribution\n",
    "    # instead of the T-distribution. This is often done when n > 30.\n",
    "    Z = (X_bar - mu0)/(S/math.sqrt(n))\n",
    "    return Z\n",
    "\n",
    "\n",
    "def calculate_p_value(data, mu0=3.2):\n",
    "    X_bar = mean_gpa(data)\n",
    "    S = std_dev_gpa(data)\n",
    "    n = sample_size(data)\n",
    "    Z = abs(calculate_Z_value(mu0, X_bar, S, n))\n",
    "    p_value = 2*probability_of_Z(-Z)\n",
    "    return p_value, Z\n",
    "\n",
    "\n",
    "def find_Z_alpha(confidence):\n",
    "    alpha = 1-confidence\n",
    "    Z_alpha_over2 = abs(Z_from_probability(1-alpha/2))\n",
    "    return alpha, Z_alpha_over2\n",
    "\n",
    "\n",
    "def beta_error(Zalpha2, sigma, n, mu0=3.2, mu1=3.3):\n",
    "    old_Z = abs(Zalpha2)\n",
    "    diff = mu1-mu0\n",
    "    beta = probability_of_Z(old_Z-(diff*math.sqrt(n)/sigma))\n",
    "    return beta"
   ]
  },
  {
   "cell_type": "markdown",
   "metadata": {},
   "source": [
    "### Testing for Normality\n",
    "Since practically forever, We have been hearing profs say that they create normal distributions out of final percent grades to assign letter grades. Because GPA is technically just a linear combination of final grades, there is a high chance that it is also normally distributed.\n",
    "<br><br>\n",
    "However, we did not want to make such an assumption without first seeing some evidence to back it up.\n",
    "<br><br>\n",
    "To test for normality we will use a technique called normal plotting. First sort all GPAs in order and assign them a value j corresponding to their order in the list (i.e. the smallest GPA is assigned ```j = 1``` and the largest GPA is assigned ```j = n```, where n is the number of total GPAs. By computing the bellow formula and plotting it's result against the corresponding GPAs we can visualise the data distribution. If a linear regression closely approximates the data than it is safe to assume that the underlying data is normally distributed.\n",
    "<br><br>\n",
    "The functions bellow uses the following procedure to test sample data.\n",
    "<br><br>\n",
    " \n",
    "\\begin{align}\n",
    "Y_{j} = \\frac{(j - 0.5)}{n} \\\\\n",
    "X_{j} = GPA_{j}\n",
    "\\end{align}\n",
    "\n",
    "```For each j from 1 to n plot``` \\begin{align}(x_{j},y_{j})\\end{align}"
   ]
  },
  {
   "cell_type": "code",
   "execution_count": 38,
   "metadata": {},
   "outputs": [],
   "source": [
    "def normal_plot(data):\n",
    "    gpas = gpa_list(data)\n",
    "    print(type(\"gpa type:\",gpas))\n",
    "    js = [j+1 for j in range(0, len(gpas))]\n",
    "    prob_dis = [(j-0.5) / (len(js)) for j in js]\n",
    "    plt.scatter(gpas, prob_dis, s=7, alpha=0.5)\n",
    "    plt.show()\n",
    "    plt.figure()\n",
    "\n",
    "    b, m = polyfit(gpas, prob_dis, 1)\n",
    "    plt.plot(gpas, prob_dis)\n",
    "    plt.plot(gpas, b + m * gpas, '-')\n",
    "    plt.show()"
   ]
  },
  {
   "cell_type": "code",
   "execution_count": 39,
   "metadata": {},
   "outputs": [
    {
     "ename": "TypeError",
     "evalue": "type() takes 1 or 3 arguments",
     "output_type": "error",
     "traceback": [
      "\u001b[0;31m---------------------------------------------------------------------------\u001b[0m",
      "\u001b[0;31mTypeError\u001b[0m                                 Traceback (most recent call last)",
      "\u001b[0;32m<ipython-input-39-7143a251a938>\u001b[0m in \u001b[0;36m<module>\u001b[0;34m\u001b[0m\n\u001b[1;32m      7\u001b[0m \u001b[0mgpa_copy\u001b[0m \u001b[0;34m=\u001b[0m \u001b[0mgpa_copy\u001b[0m\u001b[0;34m.\u001b[0m\u001b[0miloc\u001b[0m\u001b[0;34m[\u001b[0m\u001b[0;36m2\u001b[0m\u001b[0;34m:\u001b[0m\u001b[0;34m]\u001b[0m\u001b[0;34m\u001b[0m\u001b[0;34m\u001b[0m\u001b[0m\n\u001b[1;32m      8\u001b[0m \u001b[0;34m\u001b[0m\u001b[0m\n\u001b[0;32m----> 9\u001b[0;31m \u001b[0mnormal_plot\u001b[0m\u001b[0;34m(\u001b[0m\u001b[0mdata\u001b[0m\u001b[0;34m)\u001b[0m\u001b[0;34m\u001b[0m\u001b[0;34m\u001b[0m\u001b[0m\n\u001b[0m",
      "\u001b[0;32m<ipython-input-38-ac235523f2d2>\u001b[0m in \u001b[0;36mnormal_plot\u001b[0;34m(data)\u001b[0m\n\u001b[1;32m      1\u001b[0m \u001b[0;32mdef\u001b[0m \u001b[0mnormal_plot\u001b[0m\u001b[0;34m(\u001b[0m\u001b[0mdata\u001b[0m\u001b[0;34m)\u001b[0m\u001b[0;34m:\u001b[0m\u001b[0;34m\u001b[0m\u001b[0;34m\u001b[0m\u001b[0m\n\u001b[1;32m      2\u001b[0m     \u001b[0mgpas\u001b[0m \u001b[0;34m=\u001b[0m \u001b[0mgpa_list\u001b[0m\u001b[0;34m(\u001b[0m\u001b[0mdata\u001b[0m\u001b[0;34m)\u001b[0m\u001b[0;34m\u001b[0m\u001b[0;34m\u001b[0m\u001b[0m\n\u001b[0;32m----> 3\u001b[0;31m     \u001b[0mprint\u001b[0m\u001b[0;34m(\u001b[0m\u001b[0mtype\u001b[0m\u001b[0;34m(\u001b[0m\u001b[0;34m\"gpa type:\"\u001b[0m\u001b[0;34m,\u001b[0m\u001b[0mgpas\u001b[0m\u001b[0;34m)\u001b[0m\u001b[0;34m)\u001b[0m\u001b[0;34m\u001b[0m\u001b[0;34m\u001b[0m\u001b[0m\n\u001b[0m\u001b[1;32m      4\u001b[0m     \u001b[0mjs\u001b[0m \u001b[0;34m=\u001b[0m \u001b[0;34m[\u001b[0m\u001b[0mj\u001b[0m\u001b[0;34m+\u001b[0m\u001b[0;36m1\u001b[0m \u001b[0;32mfor\u001b[0m \u001b[0mj\u001b[0m \u001b[0;32min\u001b[0m \u001b[0mrange\u001b[0m\u001b[0;34m(\u001b[0m\u001b[0;36m0\u001b[0m\u001b[0;34m,\u001b[0m \u001b[0mlen\u001b[0m\u001b[0;34m(\u001b[0m\u001b[0mgpas\u001b[0m\u001b[0;34m)\u001b[0m\u001b[0;34m)\u001b[0m\u001b[0;34m]\u001b[0m\u001b[0;34m\u001b[0m\u001b[0;34m\u001b[0m\u001b[0m\n\u001b[1;32m      5\u001b[0m     \u001b[0mprob_dis\u001b[0m \u001b[0;34m=\u001b[0m \u001b[0;34m[\u001b[0m\u001b[0;34m(\u001b[0m\u001b[0mj\u001b[0m\u001b[0;34m-\u001b[0m\u001b[0;36m0.5\u001b[0m\u001b[0;34m)\u001b[0m \u001b[0;34m/\u001b[0m \u001b[0;34m(\u001b[0m\u001b[0mlen\u001b[0m\u001b[0;34m(\u001b[0m\u001b[0mjs\u001b[0m\u001b[0;34m)\u001b[0m\u001b[0;34m)\u001b[0m \u001b[0;32mfor\u001b[0m \u001b[0mj\u001b[0m \u001b[0;32min\u001b[0m \u001b[0mjs\u001b[0m\u001b[0;34m]\u001b[0m\u001b[0;34m\u001b[0m\u001b[0;34m\u001b[0m\u001b[0m\n",
      "\u001b[0;31mTypeError\u001b[0m: type() takes 1 or 3 arguments"
     ]
    }
   ],
   "source": [
    "sr = pd.read_csv(\"./data/condensed.actual.latest.csv\")\n",
    "sr.drop(sr.index[0], inplace=True)\n",
    "sr['Finally, what is your gpa?'] = pd.to_numeric(sr['Finally, what is your gpa?'])\n",
    "gpas = sr['Finally, what is your gpa?']\n",
    "gpa_copy = gpas.sort_values()\n",
    "gpa_copy = gpa_copy.drop_duplicates()\n",
    "gpa_copy = gpa_copy.iloc[2:]\n",
    "\n",
    "normal_plot(data)"
   ]
  },
  {
   "cell_type": "markdown",
   "metadata": {},
   "source": []
  },
  {
   "cell_type": "code",
   "execution_count": 16,
   "metadata": {},
   "outputs": [
    {
     "name": "stdout",
     "output_type": "stream",
     "text": [
      "sample size: 206\n",
      "mean: 3.289330097087381\n",
      "variance: 0.2687755002604673\n",
      "standard dev: 0.5184356278849548\n",
      "median: 3.4\n"
     ]
    }
   ],
   "source": [
    "\n"
   ]
  },
  {
   "cell_type": "markdown",
   "metadata": {},
   "source": [
    "## Hypothesis Testing\n",
    "### Step 1-3\n",
    "For this study, the $\\mu$ of the gpas collected is our parameter of interest and we settled decided to conduct a two-sided test because, if we are wrong, we don't know in advance if the population mean is higher or lower than our initial guess.\n",
    "<br> <br>\n",
    "$H_{0}$: $\\mu = 3.2$ \n",
    "<br>\n",
    "$H_{1}$: $\\mu \\neq 3.2$\n",
    "<br>\n"
   ]
  },
  {
   "cell_type": "markdown",
   "metadata": {},
   "source": [
    "### Normal Testing Our Data\n",
    "Before proceding to step 4 of our testing, lets perform the normal test mentioned previously."
   ]
  },
  {
   "cell_type": "code",
   "execution_count": 17,
   "metadata": {},
   "outputs": [
    {
     "data": {
      "text/plain": [
       "Text(0.5, 1.0, 'Normal Test')"
      ]
     },
     "execution_count": 17,
     "metadata": {},
     "output_type": "execute_result"
    },
    {
     "data": {
      "image/png": "[encoded data removed]",
      "text/plain": [
       "<Figure size 432x288 with 1 Axes>"
      ]
     },
     "metadata": {
      "needs_background": "light"
     },
     "output_type": "display_data"
    }
   ],
   "source": [
    "js = [j+1 for j in range(0, len(gpa_copy))]\n",
    "prob_dis = [(j-0.5) / (len(js)) for j in js]\n",
    "\n",
    "plt.scatter(gpa_copy, prob_dis, s=7, alpha=0.7)\n",
    "plt.xlabel('GPAs')\n",
    "plt.ylabel('Probability')\n",
    "plt.title('Normal Test')"
   ]
  },
  {
   "cell_type": "code",
   "execution_count": 18,
   "metadata": {},
   "outputs": [
    {
     "data": {
      "text/plain": [
       "Text(0.5, 1.0, 'Best Fit Line')"
      ]
     },
     "execution_count": 18,
     "metadata": {},
     "output_type": "execute_result"
    },
    {
     "data": {
      "image/png": "[encoded data removed]",
      "text/plain": [
       "<Figure size 432x288 with 1 Axes>"
      ]
     },
     "metadata": {
      "needs_background": "light"
     },
     "output_type": "display_data"
    }
   ],
   "source": [
    "b, m = polyfit(gpa_copy, prob_dis, 1)\n",
    "plt.plot(gpa_copy, prob_dis)\n",
    "plt.plot(gpa_copy, b + m * gpa_copy, '-')\n",
    "plt.xlabel('GPAs')\n",
    "plt.ylabel('y_j')\n",
    "plt.title('Best Fit Line')"
   ]
  },
  {
   "cell_type": "markdown",
   "metadata": {},
   "source": [
    "Thus, blabalba normal distribution."
   ]
  },
  {
   "cell_type": "markdown",
   "metadata": {},
   "source": [
    "### Step 4 \n",
    "Our sample size is $n = 211$.\n",
    "<br>\n",
    "Therefore we can use the Z-distribution since the sample size is large enough. \n",
    "<br>\n",
    "$Z_{ \\alpha / 2}= \\frac{\\mu - \\bar{x}}{s / \\sqrt{n}}$"
   ]
  },
  {
   "cell_type": "markdown",
   "metadata": {},
   "source": [
    "### Step 5\n",
    "Our sample size is large enough, thus we decided to use $\\alpha = 0.02$ for our confidence level.\n",
    "<br>\n",
    "Our resulting critical values $\\pm Z_{ \\alpha / 2} $ are:"
   ]
  },
  {
   "cell_type": "code",
   "execution_count": 21,
   "metadata": {},
   "outputs": [
    {
     "name": "stdout",
     "output_type": "stream",
     "text": [
      "alpha: 0.02\n",
      "Z alpha/2: 2.326\n"
     ]
    }
   ],
   "source": [
    "alpha, cutoff_Z = find_Z_alpha(0.98)\n",
    "alpha = round(alpha,3)\n",
    "cutoff_Z = round(cutoff_Z,3)\n",
    "print(\"alpha:\", alpha)\n",
    "print(\"Z alpha/2:\", cutoff_Z)"
   ]
  },
  {
   "cell_type": "markdown",
   "metadata": {},
   "source": [
    "Thus, if our test statistic $Z_{0} < -2.33$ or $Z_{0} > 2.33$, we will reject our null hypthesis."
   ]
  },
  {
   "cell_type": "markdown",
   "metadata": {},
   "source": [
    "### Step 6\n",
    "Now, we compute our test statistic $Z_{0}$:"
   ]
  },
  {
   "cell_type": "code",
   "execution_count": 18,
   "metadata": {},
   "outputs": [
    {
     "name": "stdout",
     "output_type": "stream",
     "text": [
      "actual Z: 2.473070954112705\n"
     ]
    }
   ],
   "source": [
    "mu0=3.2\n",
    "p_value, actual_Z = calculate_p_value(cleaned, mu0=mu0)\n",
    "print(\"actual Z:\", actual_Z)\n"
   ]
  },
  {
   "cell_type": "markdown",
   "metadata": {},
   "source": [
    "### Step 7\n",
    "Lets compute the p-value before drawing our conclusion."
   ]
  },
  {
   "cell_type": "code",
   "execution_count": 19,
   "metadata": {},
   "outputs": [
    {
     "name": "stdout",
     "output_type": "stream",
     "text": [
      "p_value: 0.013395754395141526\n"
     ]
    }
   ],
   "source": [
    "print(\"p_value:\", p_value)"
   ]
  },
  {
   "cell_type": "markdown",
   "metadata": {},
   "source": [
    "$p < \\alpha$, thus we have enough evidence to our reject our null hypothesis <br>\n",
    "$H_{0}$: $\\mu_{0} = 3.2$"
   ]
  },
  {
   "cell_type": "markdown",
   "metadata": {},
   "source": [
    "### Analysing Type I & II Error\n",
    "We saw that our type I error was $0.02$ or $2 \\%$ of rejecting our $H_{0}$ when it is true. \n",
    "<br>\n",
    "Now, we will compute our type II error assuming the true $\\mu = 3.3$.\n",
    "<br>\n",
    "Following the formula for $\\beta$\n",
    "\\begin{align}\n",
    "\\beta = \\phi[Z_{ \\alpha / 2} - \\frac{\\delta\\sqrt(n)}{s}] - \\phi[-Z_{ \\alpha / 2} - \\frac{\\delta\\sqrt(n)}{s}]\n",
    "\\end{align}\n",
    "Gives us:"
   ]
  },
  {
   "cell_type": "code",
   "execution_count": 22,
   "metadata": {},
   "outputs": [
    {
     "name": "stdout",
     "output_type": "stream",
     "text": [
      "beta error: 0.329\n",
      "power of test: 0.671\n"
     ]
    }
   ],
   "source": [
    "beta = beta_error(cutoff_Z, S, n)\n",
    "print(\"beta error:\", round(beta,3))\n",
    "print(\"power of test:\", round(1-beta,3))"
   ]
  },
  {
   "cell_type": "markdown",
   "metadata": {},
   "source": [
    "We see that we have $33\\%$ chance of accepting our $H_{0}$ when it is false. \n",
    "<br>\n",
    "Thus, we do not have enough evidence to reject $H_{1}: \\mu \\neq 3.2$"
   ]
  }
 ],
 "metadata": {
  "kernelspec": {
   "display_name": "Python 3",
   "language": "python",
   "name": "python3"
  },
  "language_info": {
   "codemirror_mode": {
    "name": "ipython",
    "version": 3
   },
   "file_extension": ".py",
   "mimetype": "text/x-python",
   "name": "python",
   "nbconvert_exporter": "python",
   "pygments_lexer": "ipython3",
   "version": "3.7.3"
  }
 },
 "nbformat": 4,
 "nbformat_minor": 2
}
