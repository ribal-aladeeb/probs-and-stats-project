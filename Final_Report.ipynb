{
 "cells": [
  {
   "cell_type": "markdown",
   "metadata": {},
   "source": [
    "# Success factors study"
   ]
  },
  {
   "cell_type": "markdown",
   "metadata": {},
   "source": [
    "## Introduction"
   ]
  },
  {
   "cell_type": "markdown",
   "metadata": {},
   "source": [
    "Our team is interested in analysing what factors positively or negatively affect academic success of university students. In our proposal, we explained that we wanted to collect multiple habits and metrics from students and analyse how each of those metrics have an impact of GPA. However, after learning about hypothesis testing we realised that our hypthesis was wrongly formulated and outside the scope and requirements of this project. So we revised our hypothesis.<br>\n",
    "\n",
    "Lets, start from the begining. Our target population is undergraduate university students who attend any of the following universities schools: Concordia, McGill, UQAM, UdeM, Sherbrooke. The feature we are interesting in investigating is GPA. <br>\n",
    "\n",
    "We created a survey and asked the following questions:<br>\n",
    "\n",
    "1. What faculty are you in?\n",
    "\n",
    "2. On average how many courses do you take per semester? (only take into account fall/winter semesters)\n",
    "\n",
    "3. How many hours do you work per week at a job unrelated to school?\n",
    "\n",
    "4. On average, how many days in a week do you not study at all? By studying we mean any work that you do for school. Don't include attending lectures/tutorials/labs\n",
    "5. On a day that you do study, how many hours do you study?\n",
    "6. What is the scale of your GPA (out of 4.3 or 4.0)?\n",
    "7. Finally, what is your gpa?\n",
    "\n",
    "After a lot of discussion and asking around, we made an educated guess that the average GPA is 3.2\n",
    "\n"
   ]
  },
  {
   "cell_type": "markdown",
   "metadata": {},
   "source": [
    "## Data pre-processing\n",
    "Before starting any numerical analysis, we have to clean the collected data so that it is ready for statistical analysis. \n",
    "\n",
    "Below is just some boiler plate code importing the libraries that we need and performing some setup.\n",
    "\n",
    "You can skip to our *Statistical analysis* section.\n"
   ]
  },
  {
   "cell_type": "code",
   "execution_count": 28,
   "metadata": {},
   "outputs": [],
   "source": [
    "import pandas as pd\n",
    "import numpy as np\n",
    "from numpy.polynomial.polynomial import polyfit\n",
    "\n",
    "from matplotlib import pyplot as plt\n",
    "\n",
    "import math\n",
    "import csv\n",
    "import scipy.stats as stats\n",
    "\n",
    "Z_from_probability = stats.norm.ppf\n",
    "probability_of_Z = stats.norm.cdf\n",
    "\n",
    "# list respondents who gave fake answers or made mistakes in answering.\n",
    "# They have to be removed from the analysis in order not to skew the results\n",
    "blacklisted_emails = [\n",
    "    'CleanYourData@Hal3anneh.com',\n",
    "    'nope@hotmail.com',\n",
    "    'eyePISSEDandFARDEDandSHIDDEDandCAMEallOVERthePLACE@lmao.pwned.com',\n",
    "    'chadi.sargi@gmail.com'\n",
    "]\n",
    "\n",
    "original_survey = \"./data/condensed.actual.latest.csv\"\n",
    "numerical_survey = './data/condensed.numerical.latest.csv'"
   ]
  },
  {
   "cell_type": "markdown",
   "metadata": {},
   "source": [
    "### Cleaning Data\n",
    "This function cleans the data from the csv file. We remove all emails for anonymity and unecessary metadata."
   ]
  },
  {
   "cell_type": "code",
   "execution_count": 31,
   "metadata": {},
   "outputs": [],
   "source": [
    "def clean(survey_filename: str):\n",
    "    '''\n",
    "    Remove the data points where people purpusefully tried to lie.\n",
    "    Remove all metadata unrelated to business logic\n",
    "    '''\n",
    "    file = survey_filename\n",
    "    numerical_raw_survey = pd.read_csv(file)\n",
    "    total_rows = len(numerical_raw_survey.index)\n",
    "\n",
    "    #print(total_rows)\n",
    "\n",
    "    indexes_to_be_removed = []\n",
    "\n",
    "    for i in range(1, total_rows):\n",
    "        email_of_respondent = numerical_raw_survey.iloc[i, 17]\n",
    "        gpa_of_respondent = float(numerical_raw_survey.iloc[i, 16])\n",
    "        if email_of_respondent in blacklisted_emails or gpa_of_respondent <= 0.1:\n",
    "            indexes_to_be_removed.append(i)\n",
    "\n",
    "    numerical_raw_survey = numerical_raw_survey.drop(\n",
    "        axis=0, index=indexes_to_be_removed)\n",
    "    #print(len(numerical_raw_survey.index))\n",
    "\n",
    "    # only keep answers to survey questions, exclude the faculty question\n",
    "    # 17 is the index of the email column\n",
    "    responses = numerical_raw_survey.iloc[1:, list(range(11, 17))]\n",
    "\n",
    "    # cast string entries to float\n",
    "    responses = pd.DataFrame.astype(responses, float)\n",
    "    return responses\n",
    "\n",
    "\n",
    "\n",
    "\n",
    "# Generate the dataframe object to be analysed\n",
    "data = clean(numerical_survey)"
   ]
  },
  {
   "cell_type": "markdown",
   "metadata": {},
   "source": [
    "## Statistical analysis\n"
   ]
  },
  {
   "cell_type": "markdown",
   "metadata": {},
   "source": [
    "#### First, let's just plot the GPAs on the y-axis against the respondents on the x-axis\n",
    "i.e. a point (x,y) just means that the x-th respondent has a GPA of y"
   ]
  },
  {
   "cell_type": "code",
   "execution_count": 88,
   "metadata": {},
   "outputs": [
    {
     "data": {
      "image/png": "[encoded data removed]",
      "text/plain": [
       "<Figure size 432x288 with 1 Axes>"
      ]
     },
     "metadata": {
      "needs_background": "light"
     },
     "output_type": "display_data"
    }
   ],
   "source": [
    "def plot_gpas_alone(data):\n",
    "    questions = data.columns\n",
    "    plt.plot(data[questions[5]], 'ro')\n",
    "    plt.xlabel(\"respondents\")\n",
    "    plt.ylabel(\"GPAs\")\n",
    "    plt.show()\n",
    "\n",
    "plot_gpas_alone(data)"
   ]
  },
  {
   "cell_type": "markdown",
   "metadata": {},
   "source": [
    "You can see that the lowest gpas are a little bellow 2 and the highest is 4.3 with a little over 200 respondents"
   ]
  },
  {
   "cell_type": "markdown",
   "metadata": {},
   "source": [
    "### Basic sample attributes\n",
    "Next up, we write the code for extracting crucial information for our analysis. Namely, we are looking for sample mean, variance, standard deviation, and median."
   ]
  },
  {
   "cell_type": "code",
   "execution_count": 32,
   "metadata": {},
   "outputs": [],
   "source": [
    "# extract GPAs from dataframe\n",
    "def gpa_list(data):\n",
    "    return list(data.iloc[:, 5])\n",
    "\n",
    "def sample_size(data):\n",
    "    return len(data.index)\n",
    "\n",
    "def mean_gpa(data):\n",
    "    gpas = gpa_list(data)\n",
    "    sample_mean = sum(gpas)/len(gpas)\n",
    "    return sample_mean\n",
    "\n",
    "\n",
    "def sample_gpa_variance(data):\n",
    "    # Extract gpas as numpy array to propagate math operations without looping\n",
    "    # over each element.\n",
    "    gpas = np.array(gpa_list(data))\n",
    "    variance = (sum(gpas**2) - sum(gpas)**2/len(gpas)) / (len(gpas)-1)\n",
    "    return variance\n",
    "\n",
    "\n",
    "def std_dev_gpa(data):\n",
    "    return math.sqrt(sample_gpa_variance(data))\n",
    "\n",
    "\n",
    "def median_gpa(data):\n",
    "    gpas = gpa_list(data)\n",
    "    midpoint = int(len(gpas)/2)\n",
    "    if len(gpas) % 2 == 0:\n",
    "        return gpas[midpoint]\n",
    "    lower = gpas[midpoint]\n",
    "    upper = gpas[midpoint+1]\n",
    "    median = (lower+upper)/2\n",
    "    return median\n"
   ]
  },
  {
   "cell_type": "markdown",
   "metadata": {},
   "source": [
    "#### Now let's compute them and print them\n",
    "$\\bar{x}$, $S^{2}$, $S$ and median are show below: "
   ]
  },
  {
   "cell_type": "code",
   "execution_count": 35,
   "metadata": {},
   "outputs": [
    {
     "name": "stdout",
     "output_type": "stream",
     "text": [
      "sample size: 206\n",
      "mean: 3.289\n",
      "variance: 0.269\n",
      "standard dev: 0.518\n",
      "median: 3.4\n"
     ]
    }
   ],
   "source": [
    "n = sample_size(data)\n",
    "xbar = round(mean_gpa(data),3)\n",
    "S_squared = round(sample_gpa_variance(data),3)\n",
    "S = round(std_dev_gpa(data),3)\n",
    "\n",
    "print(\"sample size:\", n)\n",
    "print(\"mean:\", xbar)\n",
    "print(\"variance:\", S_squared)\n",
    "print(\"standard dev:\", S)\n",
    "print(\"median:\", median_gpa(data))"
   ]
  },
  {
   "cell_type": "markdown",
   "metadata": {},
   "source": [
    "### Testing for Normality\n",
    "Since practically forever, We have been hearing profs say that they create normal distributions out of final percent grades to assign letter grades. Because GPA is technically just a linear combination of final grades, there is a high chance that it is also normally distributed.\n",
    "\n",
    "However, we did not want to make such an assumption without first seeing some evidence to back it up.\n",
    "\n",
    "To test for normality we will use a technique called normal plotting. First sort all GPAs in order and assign them a value j corresponding to their order in the list (i.e. the smallest GPA is assigned $j=1$ and the largest GPA is assigned $j=n$, where n is the number of total GPAs. By computing the bellow formula and plotting it's result against the corresponding GPAs we can visualise the data distribution. If a linear regression closely approximates the data than it is safe to assume that the underlying data is normally distributed.\n",
    "\n",
    "The functions bellow uses the following procedure to test sample data.\n",
    "\n",
    " \n",
    "\\begin{align}\n",
    "Y_{j} = \\frac{(j - 0.5)}{n} \\\\\n",
    "X_{j} = GPA_{j}\n",
    "\\end{align}\n",
    "\n",
    "```For each j from 1 to n plot``` \\begin{align}(x_{j},y_{j})\\end{align}"
   ]
  },
  {
   "cell_type": "code",
   "execution_count": 40,
   "metadata": {},
   "outputs": [
    {
     "data": {
      "text/plain": [
       "Text(0.5, 1.0, 'Normal Test')"
      ]
     },
     "execution_count": 40,
     "metadata": {},
     "output_type": "execute_result"
    },
    {
     "data": {
      "image/png": "[encoded data removed]",
      "text/plain": [
       "<Figure size 432x288 with 1 Axes>"
      ]
     },
     "metadata": {
      "needs_background": "light"
     },
     "output_type": "display_data"
    }
   ],
   "source": [
    "js = [j+1 for j in range(0, len(gpa_copy))]\n",
    "prob_dis = [(j-0.5) / (len(js)) for j in js]\n",
    "\n",
    "plt.scatter(gpa_copy, prob_dis, s=7, alpha=0.7)\n",
    "plt.xlabel('GPAs')\n",
    "plt.ylabel('Probability')\n",
    "plt.title('Normal Test')"
   ]
  },
  {
   "cell_type": "code",
   "execution_count": 41,
   "metadata": {},
   "outputs": [
    {
     "data": {
      "text/plain": [
       "Text(0.5, 1.0, 'Best Fit Line')"
      ]
     },
     "execution_count": 41,
     "metadata": {},
     "output_type": "execute_result"
    },
    {
     "data": {
      "image/png": "[encoded data removed]",
      "text/plain": [
       "<Figure size 432x288 with 1 Axes>"
      ]
     },
     "metadata": {
      "needs_background": "light"
     },
     "output_type": "display_data"
    }
   ],
   "source": [
    "b, m = polyfit(gpa_copy, prob_dis, 1)\n",
    "plt.plot(gpa_copy, prob_dis)\n",
    "plt.plot(gpa_copy, b + m * gpa_copy, '-')\n",
    "plt.xlabel('GPAs')\n",
    "plt.ylabel('y_j')\n",
    "plt.title('Best Fit Line')"
   ]
  },
  {
   "cell_type": "markdown",
   "metadata": {},
   "source": [
    "The points are quite close to their linear regression and we feel it is safe to proceed forward with the assumption that GPAs are normally distributed."
   ]
  },
  {
   "cell_type": "markdown",
   "metadata": {},
   "source": [
    "## Hypothesis Testing\n",
    "### Step 1-3\n",
    "For this study, the mean $\\mu$ of the GPAs collected is our parameter of interest and we  decided to conduct a two-sided test because, if we are wrong about the mean, we don't know in advance whether the true mean is higher or lower than our initial guess.\n",
    "\n",
    "$H_{0}$: $\\mu = 3.2$ \n",
    "\n",
    "$H_{1}$: $\\mu \\neq 3.2$\n",
    "\n",
    "We wish to test the following hypothesis with 98% confidence. Therefore $\\alpha = 2\\% = 0.02$\n"
   ]
  },
  {
   "cell_type": "markdown",
   "metadata": {},
   "source": [
    "### Step 4 \n",
    "Our sample size is $n = 206$ and since $n>30$ we can use the Z-distribution instead of the T-distribution even though we don't know the true population variance.\n",
    "\n",
    "$Z_{\\bar{x}}= \\frac{\\bar{x}-\\mu}{s / \\sqrt{n}}$\n",
    "\n",
    "\n",
    "#### Test statistic\n",
    "below you can find the code to calculate the test statistic $Z_{\\bar{x}}$ given a sample mean, population mean, population standard deviation and sample size. As mentioned earlier, we will use sample standard deviation as an accurate estimator of the true $\\sigma$ given our large sample size"
   ]
  },
  {
   "cell_type": "code",
   "execution_count": 54,
   "metadata": {},
   "outputs": [],
   "source": [
    "def calculate_Z_value(mu0, X_bar, S, n):\n",
    "    # because our sample size is greater than 200, we feel confident of\n",
    "    # estimating sigma using S. In this way we can use the Z-distribution\n",
    "    # instead of the T-distribution. This is often done when n > 30.\n",
    "    Z = (X_bar - mu0)/(S/math.sqrt(n))\n",
    "    return Z"
   ]
  },
  {
   "cell_type": "markdown",
   "metadata": {},
   "source": [
    "### Step 5\n",
    "\n",
    "#### if \n",
    "$\\pm Z_{\\bar{x}}< \\pm Z_{ \\alpha/2}$\n",
    "\n",
    "Then we will reject our null hypothesis because it would indicate that we have less than a 2% chance to obtain a sample mean of 3.289 if $\\mu = 3.2$.\n",
    "\n",
    "Below you can see the code for computing the critical values (i.e $\\pm Z_{ \\alpha/2}$) and the $p-value$"
   ]
  },
  {
   "cell_type": "code",
   "execution_count": 62,
   "metadata": {},
   "outputs": [],
   "source": [
    "def find_Z_alpha(confidence):\n",
    "    alpha = 1-confidence\n",
    "    Z_alpha_over2 = abs(Z_from_probability(1-alpha/2))\n",
    "    return alpha, Z_alpha_over2\n",
    "\n",
    "def calculate_p_value(Z):\n",
    "    p_value = 2*probability_of_Z(-abs(Z))\n",
    "    return p_value"
   ]
  },
  {
   "cell_type": "markdown",
   "metadata": {},
   "source": [
    "### Step 6\n",
    "#### Let's perform all necessary computations to test our hypthesis\n"
   ]
  },
  {
   "cell_type": "code",
   "execution_count": 65,
   "metadata": {},
   "outputs": [
    {
     "name": "stdout",
     "output_type": "stream",
     "text": [
      "alpha: 0.02\n",
      "Z_alpha/2: 2.326\n",
      "\n",
      "given our data our test statistic Z = 2.466\n",
      "\n",
      "It appears that our test statistic lands beyond the critical values.\n",
      "\n",
      "The P-value for our sample is: 0.014\n",
      "\n",
      "We can safely reject the null hypothesis as p=0.014 < alpha=0.02\n"
     ]
    }
   ],
   "source": [
    "confidence_level = 0.98\n",
    "alpha, cutoff_Z = find_Z_alpha(confidence_level)\n",
    "alpha = round(alpha,3)\n",
    "cutoff_Z = round(cutoff_Z,3)\n",
    "print(\"alpha:\", alpha)\n",
    "print(\"Z_alpha/2:\", cutoff_Z)\n",
    "print()\n",
    "\n",
    "Z = round(calculate_Z_value(3.2,xbar,S,n),3)\n",
    "print(\"given our data our test statistic Z =\",Z)\n",
    "print()\n",
    "\n",
    "if abs(Z)> abs(cutoff_Z):\n",
    "    print(\"It appears that our test statistic lands beyond the critical values.\")\n",
    "else:\n",
    "    print(\"The test statistic lands in the accepted interval of values (i.e the confidence interval)\")\n",
    "print()\n",
    "\n",
    "\n",
    "p = calculate_p_value(Z)\n",
    "p = round(p,3)\n",
    "print(\"The P-value for our sample is:\",p)\n",
    "print()\n",
    "\n",
    "if p < alpha:\n",
    "    print(\"We can safely reject the null hypothesis as p={} < alpha={}\".format(p,alpha))"
   ]
  },
  {
   "cell_type": "markdown",
   "metadata": {},
   "source": [
    "### Step 7: interpretation\n",
    "\n",
    "The $p-value$ essential says: \"if your initial hypothesis is true, then you have a $p$ chance of getting the results shown by your sample data\". In this case our $p-value$ is 0.014 which means that we only have a 1.4% chance of getting a sample mean of 3.289 if the true mean was 3.20.\n",
    "\n",
    "So we reject our initial hypothesis. "
   ]
  },
  {
   "cell_type": "markdown",
   "metadata": {},
   "source": [
    "### Alternate hypothesis\n",
    "\n",
    "Let's see if we can find an alternate hypothesis that is more plausible. given that 3.289 is much closer to 3.30 than it is to 3.20 lets see if it is a reasonable hypothesis to assume that the population mean is equal to 3.30."
   ]
  },
  {
   "cell_type": "code",
   "execution_count": 81,
   "metadata": {},
   "outputs": [
    {
     "name": "stdout",
     "output_type": "stream",
     "text": [
      "The new test statistic is: 0.3048\n",
      "The new p value is: 0.761\n"
     ]
    }
   ],
   "source": [
    "new_Z = abs(calculate_Z_value(3.3,xbar,S,n))\n",
    "new_Z = round(new_Z,4)\n",
    "\n",
    "new_p = round(calculate_p_value(new_Z),3)\n",
    "print(\"The new test statistic is:\",new_Z)\n",
    "print(\"The new p value is:\",new_p)"
   ]
  },
  {
   "cell_type": "markdown",
   "metadata": {},
   "source": [
    "This $p-value$ is well above $\\alpha$. In fact what this says is that if the true mean is $3.3$ than we have a $76.1\\%$ chance of obtaining a sample mean of $3.289$ (or farther from $\\mu$). Since this is a very plausible scenario we fail to reject the alternate hypothesis."
   ]
  },
  {
   "cell_type": "markdown",
   "metadata": {},
   "source": [
    "### Analysing Type I & II Error\n",
    "\n",
    "Recall that Type I error is the probability to reject $H_{0}$ when it is true. That is, by definition, the value of $\\alpha$... $\\alpha = 1 - confidence$. So our Type I error is $2\\%$\n",
    "\n",
    "Type 2 Error (i.e. $\\beta$) is the probability of failing to reject $H_{0}$ when it is false. For this, we will keep our alternate hypothesis value of $\\mu = 3.3$. To understand this better, imagine two normal distributions: one for $H_{0}$, and one for $H_{1}$ slightly to the right of the first. $\\beta$ is the area under the second distribution bounded by the critical values of the first distribution.\n",
    "\n",
    "\n",
    "Following the formula for $\\beta$\n",
    "\\begin{align}\n",
    "\\beta = \\phi[Z_{ \\alpha / 2} - \\frac{\\delta\\sqrt(n)}{s}] - \\phi[-Z_{ \\alpha / 2} - \\frac{\\delta\\sqrt(n)}{s}]\n",
    "\\end{align}\n",
    "\n",
    "Gives us:"
   ]
  },
  {
   "cell_type": "code",
   "execution_count": 87,
   "metadata": {},
   "outputs": [
    {
     "name": "stdout",
     "output_type": "stream",
     "text": [
      "beta error: 0.328\n",
      "power of test: 0.672\n"
     ]
    }
   ],
   "source": [
    "def beta_error(Zalpha2, sigma, n, mu0=3.2, mu1=3.3):\n",
    "    old_Z = abs(Zalpha2)\n",
    "    diff = (mu1-mu0)*math.sqrt(n)/sigma\n",
    "    beta = probability_of_Z(old_Z-diff) - probability_of_Z(-old_Z-diff)\n",
    "    return beta\n",
    "\n",
    "\n",
    "beta = beta_error(cutoff_Z, S, n)\n",
    "print(\"beta error:\", round(beta,3))\n",
    "print(\"power of test:\", round(1-beta,3))"
   ]
  },
  {
   "cell_type": "markdown",
   "metadata": {},
   "source": [
    "We see that we have $33\\%$ chance of accepting our $H_{0}$ when it is false, which is pretty high. To reduce that error, one would need to increase the sample size."
   ]
  },
  {
   "cell_type": "markdown",
   "metadata": {},
   "source": [
    "## Discussion\n",
    "\n",
    "#### Limitations:\n",
    "\n",
    "First of all, the method of collecting our sample was pseudo-random. We created an online survey and blasted links on social media pages and groups to get our friends and friends of friends to take the survey. Therefore the data might have some bias in that we are not sure if our social circles are good enough representations of the population that we are studying: undergrad students of the 5 above mentioned universities. In fact one thing is for sure, social circles are not random phenomena, and therefore there probably is bias in the data. What the bias is and to what extent it skews the data are questions that are well beyond the scope of this project and that we won't even attempt to answer, (simply because we have no clue) hoping that the bias is small enough.\n",
    "\n",
    "Second of all, the whole study is predicated on the assumption that GPAs are normally distributed. We have some decent reasons to make that assumption but we are not sure that the linear regression presented in the section on normal testing is close enough for that assumption to be made. The reason for this is that the textbook is not at all clear on the  criteria for what makes the regression \"close enough\" to the data points. If our logic is flawed regarding this specific topic, then our whole hypothesis and numerical analysis is not worth much.\n",
    "\n",
    "Third, the GPAs that we collected are as accurate as people have been truthfull. We don't expect people to lie about their GPAs because we don't see the motive or the incentive but that remains something to consider.\n",
    "\n",
    "#### Expansion of scope:\n",
    "\n",
    "As mentioned in the introduction, we initially wanted to collect metrics to be able to predict the GPA of a student given some data about their studying habits. We quickly found that this was outside of the scope and requirement of the project, so we adapted our hypothesis. However we are still very interested in seeing if we can accurately predict GPAs. If we are able to make something worthwhile out of the collected data we will make sure to post our results at the following [link](http://stats.study.ribalaladeeb.com)."
   ]
  }
 ],
 "metadata": {
  "kernelspec": {
   "display_name": "Python 3",
   "language": "python",
   "name": "python3"
  },
  "language_info": {
   "codemirror_mode": {
    "name": "ipython",
    "version": 3
   },
   "file_extension": ".py",
   "mimetype": "text/x-python",
   "name": "python",
   "nbconvert_exporter": "python",
   "pygments_lexer": "ipython3",
   "version": "3.7.3"
  }
 },
 "nbformat": 4,
 "nbformat_minor": 2
}
