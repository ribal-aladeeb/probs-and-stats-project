{
 "cells": [
  {
   "cell_type": "markdown",
   "metadata": {},
   "source": [
    "# Success factors study"
   ]
  },
  {
   "cell_type": "markdown",
   "metadata": {},
   "source": [
    "## Introduction"
   ]
  },
  {
   "cell_type": "markdown",
   "metadata": {},
   "source": [
    "Our team is interested in analysing what factors positively or negatively affect academic success of university students. In our proposal, we explained that we wanted to collect multiple habits and metrics from students and analyse how each of those metrics have an impact of GPA. However, after learning about hypothesis testing we realised that our hypthesis was wrongly formulated and outside the scope and requirements of this project. So we revised our hypothesis.<br>\n",
    "\n",
    "Lets, start from the begining. Our target population is undergraduate university students who attend any of the following universities schools: Concordia, McGill, UQAM, UdeM, Sherbrooke. The feature we are interesting in investigating is GPA. <br>\n",
    "\n",
    "We created a survey and asked the following questions:<br>\n",
    "\n",
    "1. What faculty are you in?\n",
    "\n",
    "2. On average how many courses do you take per semester? (only take into account fall/winter semesters)\n",
    "\n",
    "3. How many hours do you work per week at a job unrelated to school?\n",
    "\n",
    "4. On average, how many days in a week do you not study at all? By studying we mean any work that you do for school. Don't include attending lectures/tutorials/labs\n",
    "5. On a day that you do study, how many hours do you study?\n",
    "6. What is the scale of your GPA (out of 4.3 or 4.0)?\n",
    "7. Finally, what is your gpa?\n",
    "\n",
    "After a lot of discussion and asking around, we made an educated guess that the average GPA is 3.2\n",
    "\n"
   ]
  },
  {
   "cell_type": "markdown",
   "metadata": {},
   "source": [
    "## Data pre-processing\n",
    "Before starting any numerical analysis, we have to clean the collected data so that it is ready for statistical analysis. \n",
    "\n",
    "Below is just some boiler plate code importing the libraries that we need and performing some setup.\n",
    "\n",
    "You can skip to our *Statistical analysis* section.\n"
   ]
  },
  {
   "cell_type": "code",
   "execution_count": 54,
   "metadata": {},
   "outputs": [],
   "source": [
    "import pandas as pd\n",
    "import numpy as np\n",
    "from numpy.polynomial.polynomial import polyfit\n",
    "from pprint import pprint\n",
    "from collections import Counter\n",
    "from matplotlib import pyplot as plt\n",
    "\n",
    "import math\n",
    "import csv\n",
    "import scipy.stats as stats\n",
    "\n",
    "Z_from_probability = stats.norm.ppf\n",
    "probability_of_Z = stats.norm.cdf\n",
    "\n",
    "# list respondents who gave fake answers or made mistakes in answering.\n",
    "# They have to be removed from the analysis in order not to skew the results\n",
    "blacklisted_emails = [\n",
    "    'CleanYourData@Hal3anneh.com',\n",
    "    'nope@hotmail.com',\n",
    "    'eyePISSEDandFARDEDandSHIDDEDandCAMEallOVERthePLACE@lmao.pwned.com',\n",
    "    'chadi.sargi@gmail.com'\n",
    "]\n",
    "\n",
    "original_survey = \"./data/condensed.actual.latest.csv\"\n",
    "numerical_survey = './data/condensed.numerical.latest.csv'"
   ]
  },
  {
   "cell_type": "markdown",
   "metadata": {},
   "source": [
    "### Cleaning Data\n",
    "This function cleans the data from the csv file. We remove all emails for anonymity and unecessary metadata."
   ]
  },
  {
   "cell_type": "code",
   "execution_count": 14,
   "metadata": {},
   "outputs": [],
   "source": [
    "def clean(survey_filename: str):\n",
    "    '''\n",
    "    Remove the data points where people purpusefully tried to lie.\n",
    "    Remove all metadata unrelated to business logic\n",
    "    '''\n",
    "    file = survey_filename\n",
    "    numerical_raw_survey = pd.read_csv(file)\n",
    "    total_rows = len(numerical_raw_survey.index)\n",
    "\n",
    "    #print(total_rows)\n",
    "\n",
    "    indexes_to_be_removed = []\n",
    "\n",
    "    for i in range(1, total_rows):\n",
    "        email_of_respondent = numerical_raw_survey.iloc[i, 17]\n",
    "        gpa_of_respondent = float(numerical_raw_survey.iloc[i, 16])\n",
    "        if email_of_respondent in blacklisted_emails or gpa_of_respondent <= 0.1:\n",
    "            indexes_to_be_removed.append(i)\n",
    "\n",
    "    numerical_raw_survey = numerical_raw_survey.drop(\n",
    "        axis=0, index=indexes_to_be_removed)\n",
    "    #print(len(numerical_raw_survey.index))\n",
    "\n",
    "    # only keep answers to survey questions, exclude the faculty question\n",
    "    # 17 is the index of the email column\n",
    "    responses = numerical_raw_survey.iloc[1:, list(range(11, 17))]\n",
    "\n",
    "    # cast string entries to float\n",
    "    responses = pd.DataFrame.astype(responses, float)\n",
    "    return responses\n",
    "\n",
    "\n",
    "\n",
    "\n",
    "# Generate the dataframe object to be analysed\n",
    "data = clean(numerical_survey)"
   ]
  },
  {
   "cell_type": "markdown",
   "metadata": {},
   "source": [
    "## Statistical analysis\n"
   ]
  },
  {
   "cell_type": "markdown",
   "metadata": {},
   "source": [
    "#### First, let's just plot the GPAs on the y-axis against the respondents on the x-axis\n",
    "i.e. a point (x,y) just means that the x-th respondent has a GPA of y"
   ]
  },
  {
   "cell_type": "code",
   "execution_count": 100,
   "metadata": {},
   "outputs": [
    {
     "output_type": "display_data",
     "data": {
      "text/plain": "<Figure size 432x288 with 1 Axes>",
      "image/svg+xml": "<?xml version=\"1.0\" encoding=\"utf-8\" standalone=\"no\"?>\n<!DOCTYPE svg PUBLIC \"-//W3C//DTD SVG 1.1//EN\"\n  \"http://www.w3.org/Graphics/SVG/1.1/DTD/svg11.dtd\">\n<!-- Created with matplotlib (https://matplotlib.org/) -->\n<svg height=\"262.19625pt\" version=\"1.1\" viewBox=\"0 0 382.603125 262.19625\" width=\"382.603125pt\" xmlns=\"http://www.w3.org/2000/svg\" xmlns:xlink=\"http://www.w3.org/1999/xlink\">\n <metadata>\n  <rdf:RDF xmlns:cc=\"http://creativecommons.org/ns#\" xmlns:dc=\"http://purl.org/dc/elements/1.1/\" xmlns:rdf=\"http://www.w3.org/1999/02/22-rdf-syntax-ns#\">\n   <cc:Work>\n    <dc:type rdf:resource=\"http://purl.org/dc/dcmitype/StillImage\"/>\n    <dc:date>2021-04-11T15:11:27.521502</dc:date>\n    <dc:format>image/svg+xml</dc:format>\n    <dc:creator>\n     <cc:Agent>\n      <dc:title>Matplotlib v3.3.1, https://matplotlib.org/</dc:title>\n     </cc:Agent>\n    </dc:creator>\n   </cc:Work>\n  </rdf:RDF>\n </metadata>\n <defs>\n  <style type=\"text/css\">*{stroke-linecap:butt;stroke-linejoin:round;}</style>\n </defs>\n <g id=\"figure_1\">\n  <g id=\"patch_1\">\n   <path d=\"M 0 262.19625 \nL 382.603125 262.19625 \nL 382.603125 0 \nL 0 0 \nz\n\" style=\"fill:none;\"/>\n  </g>\n  <g id=\"axes_1\">\n   <g id=\"patch_2\">\n    <path d=\"M 40.603125 224.64 \nL 375.403125 224.64 \nL 375.403125 7.2 \nL 40.603125 7.2 \nz\n\" style=\"fill:#ffffff;\"/>\n   </g>\n   <g id=\"patch_3\">\n    <path clip-path=\"url(#p0d820fc971)\" d=\"M 55.821307 224.64 \nL 87.03809 224.64 \nL 87.03809 208.71033 \nL 55.821307 208.71033 \nz\n\" style=\"fill:#1f77b4;stroke:#000000;stroke-linejoin:miter;\"/>\n   </g>\n   <g id=\"patch_4\">\n    <path clip-path=\"url(#p0d820fc971)\" d=\"M 94.842286 224.64 \nL 126.059069 224.64 \nL 126.059069 196.763077 \nL 94.842286 196.763077 \nz\n\" style=\"fill:#1f77b4;stroke:#000000;stroke-linejoin:miter;\"/>\n   </g>\n   <g id=\"patch_5\">\n    <path clip-path=\"url(#p0d820fc971)\" d=\"M 133.863265 224.64 \nL 165.080048 224.64 \nL 165.080048 109.14989 \nL 133.863265 109.14989 \nz\n\" style=\"fill:#1f77b4;stroke:#000000;stroke-linejoin:miter;\"/>\n   </g>\n   <g id=\"patch_6\">\n    <path clip-path=\"url(#p0d820fc971)\" d=\"M 172.884244 224.64 \nL 204.101027 224.64 \nL 204.101027 57.378462 \nL 172.884244 57.378462 \nz\n\" style=\"fill:#1f77b4;stroke:#000000;stroke-linejoin:miter;\"/>\n   </g>\n   <g id=\"patch_7\">\n    <path clip-path=\"url(#p0d820fc971)\" d=\"M 211.905223 224.64 \nL 243.122006 224.64 \nL 243.122006 65.343297 \nL 211.905223 65.343297 \nz\n\" style=\"fill:#1f77b4;stroke:#000000;stroke-linejoin:miter;\"/>\n   </g>\n   <g id=\"patch_8\">\n    <path clip-path=\"url(#p0d820fc971)\" d=\"M 250.926202 224.64 \nL 282.142985 224.64 \nL 282.142985 17.554286 \nL 250.926202 17.554286 \nz\n\" style=\"fill:#1f77b4;stroke:#000000;stroke-linejoin:miter;\"/>\n   </g>\n   <g id=\"patch_9\">\n    <path clip-path=\"url(#p0d820fc971)\" d=\"M 289.947181 224.64 \nL 321.163964 224.64 \nL 321.163964 129.061978 \nL 289.947181 129.061978 \nz\n\" style=\"fill:#1f77b4;stroke:#000000;stroke-linejoin:miter;\"/>\n   </g>\n   <g id=\"patch_10\">\n    <path clip-path=\"url(#p0d820fc971)\" d=\"M 328.96816 224.64 \nL 360.184943 224.64 \nL 360.184943 192.780659 \nL 328.96816 192.780659 \nz\n\" style=\"fill:#1f77b4;stroke:#000000;stroke-linejoin:miter;\"/>\n   </g>\n   <g id=\"matplotlib.axis_1\">\n    <g id=\"xtick_1\">\n     <g id=\"line2d_1\">\n      <defs>\n       <path d=\"M 0 0 \nL 0 3.5 \n\" id=\"m266e5268af\" style=\"stroke:#000000;stroke-width:0.8;\"/>\n      </defs>\n      <g>\n       <use style=\"stroke:#000000;stroke-width:0.8;\" x=\"71.429698\" xlink:href=\"#m266e5268af\" y=\"224.64\"/>\n      </g>\n     </g>\n     <g id=\"text_1\">\n      <!-- C -->\n      <g transform=\"translate(67.938292 239.238437)scale(0.1 -0.1)\">\n       <defs>\n        <path d=\"M 64.40625 67.28125 \nL 64.40625 56.890625 \nQ 59.421875 61.53125 53.78125 63.8125 \nQ 48.140625 66.109375 41.796875 66.109375 \nQ 29.296875 66.109375 22.65625 58.46875 \nQ 16.015625 50.828125 16.015625 36.375 \nQ 16.015625 21.96875 22.65625 14.328125 \nQ 29.296875 6.6875 41.796875 6.6875 \nQ 48.140625 6.6875 53.78125 8.984375 \nQ 59.421875 11.28125 64.40625 15.921875 \nL 64.40625 5.609375 \nQ 59.234375 2.09375 53.4375 0.328125 \nQ 47.65625 -1.421875 41.21875 -1.421875 \nQ 24.65625 -1.421875 15.125 8.703125 \nQ 5.609375 18.84375 5.609375 36.375 \nQ 5.609375 53.953125 15.125 64.078125 \nQ 24.65625 74.21875 41.21875 74.21875 \nQ 47.75 74.21875 53.53125 72.484375 \nQ 59.328125 70.75 64.40625 67.28125 \nz\n\" id=\"DejaVuSans-67\"/>\n       </defs>\n       <use xlink:href=\"#DejaVuSans-67\"/>\n      </g>\n     </g>\n    </g>\n    <g id=\"xtick_2\">\n     <g id=\"line2d_2\">\n      <g>\n       <use style=\"stroke:#000000;stroke-width:0.8;\" x=\"110.450677\" xlink:href=\"#m266e5268af\" y=\"224.64\"/>\n      </g>\n     </g>\n     <g id=\"text_2\">\n      <!-- C+ -->\n      <g transform=\"translate(102.769427 239.238437)scale(0.1 -0.1)\">\n       <defs>\n        <path d=\"M 46 62.703125 \nL 46 35.5 \nL 73.1875 35.5 \nL 73.1875 27.203125 \nL 46 27.203125 \nL 46 0 \nL 37.796875 0 \nL 37.796875 27.203125 \nL 10.59375 27.203125 \nL 10.59375 35.5 \nL 37.796875 35.5 \nL 37.796875 62.703125 \nz\n\" id=\"DejaVuSans-43\"/>\n       </defs>\n       <use xlink:href=\"#DejaVuSans-67\"/>\n       <use x=\"69.824219\" xlink:href=\"#DejaVuSans-43\"/>\n      </g>\n     </g>\n    </g>\n    <g id=\"xtick_3\">\n     <g id=\"line2d_3\">\n      <g>\n       <use style=\"stroke:#000000;stroke-width:0.8;\" x=\"149.471656\" xlink:href=\"#m266e5268af\" y=\"224.64\"/>\n      </g>\n     </g>\n     <g id=\"text_3\">\n      <!-- B- -->\n      <g transform=\"translate(144.237281 239.238437)scale(0.1 -0.1)\">\n       <defs>\n        <path d=\"M 19.671875 34.8125 \nL 19.671875 8.109375 \nL 35.5 8.109375 \nQ 43.453125 8.109375 47.28125 11.40625 \nQ 51.125 14.703125 51.125 21.484375 \nQ 51.125 28.328125 47.28125 31.5625 \nQ 43.453125 34.8125 35.5 34.8125 \nz\nM 19.671875 64.796875 \nL 19.671875 42.828125 \nL 34.28125 42.828125 \nQ 41.5 42.828125 45.03125 45.53125 \nQ 48.578125 48.25 48.578125 53.8125 \nQ 48.578125 59.328125 45.03125 62.0625 \nQ 41.5 64.796875 34.28125 64.796875 \nz\nM 9.8125 72.90625 \nL 35.015625 72.90625 \nQ 46.296875 72.90625 52.390625 68.21875 \nQ 58.5 63.53125 58.5 54.890625 \nQ 58.5 48.1875 55.375 44.234375 \nQ 52.25 40.28125 46.1875 39.3125 \nQ 53.46875 37.75 57.5 32.78125 \nQ 61.53125 27.828125 61.53125 20.40625 \nQ 61.53125 10.640625 54.890625 5.3125 \nQ 48.25 0 35.984375 0 \nL 9.8125 0 \nz\n\" id=\"DejaVuSans-66\"/>\n        <path d=\"M 4.890625 31.390625 \nL 31.203125 31.390625 \nL 31.203125 23.390625 \nL 4.890625 23.390625 \nz\n\" id=\"DejaVuSans-45\"/>\n       </defs>\n       <use xlink:href=\"#DejaVuSans-66\"/>\n       <use x=\"68.603516\" xlink:href=\"#DejaVuSans-45\"/>\n      </g>\n     </g>\n    </g>\n    <g id=\"xtick_4\">\n     <g id=\"line2d_4\">\n      <g>\n       <use style=\"stroke:#000000;stroke-width:0.8;\" x=\"188.492635\" xlink:href=\"#m266e5268af\" y=\"224.64\"/>\n      </g>\n     </g>\n     <g id=\"text_4\">\n      <!-- B -->\n      <g transform=\"translate(185.062167 239.238437)scale(0.1 -0.1)\">\n       <use xlink:href=\"#DejaVuSans-66\"/>\n      </g>\n     </g>\n    </g>\n    <g id=\"xtick_5\">\n     <g id=\"line2d_5\">\n      <g>\n       <use style=\"stroke:#000000;stroke-width:0.8;\" x=\"227.513615\" xlink:href=\"#m266e5268af\" y=\"224.64\"/>\n      </g>\n     </g>\n     <g id=\"text_5\">\n      <!-- B+ -->\n      <g transform=\"translate(219.893302 239.238437)scale(0.1 -0.1)\">\n       <use xlink:href=\"#DejaVuSans-66\"/>\n       <use x=\"68.603516\" xlink:href=\"#DejaVuSans-43\"/>\n      </g>\n     </g>\n    </g>\n    <g id=\"xtick_6\">\n     <g id=\"line2d_6\">\n      <g>\n       <use style=\"stroke:#000000;stroke-width:0.8;\" x=\"266.534594\" xlink:href=\"#m266e5268af\" y=\"224.64\"/>\n      </g>\n     </g>\n     <g id=\"text_6\">\n      <!-- A- -->\n      <g transform=\"translate(261.422875 239.238437)scale(0.1 -0.1)\">\n       <defs>\n        <path d=\"M 34.1875 63.1875 \nL 20.796875 26.90625 \nL 47.609375 26.90625 \nz\nM 28.609375 72.90625 \nL 39.796875 72.90625 \nL 67.578125 0 \nL 57.328125 0 \nL 50.6875 18.703125 \nL 17.828125 18.703125 \nL 11.1875 0 \nL 0.78125 0 \nz\n\" id=\"DejaVuSans-65\"/>\n       </defs>\n       <use xlink:href=\"#DejaVuSans-65\"/>\n       <use x=\"66.158203\" xlink:href=\"#DejaVuSans-45\"/>\n      </g>\n     </g>\n    </g>\n    <g id=\"xtick_7\">\n     <g id=\"line2d_7\">\n      <g>\n       <use style=\"stroke:#000000;stroke-width:0.8;\" x=\"305.555573\" xlink:href=\"#m266e5268af\" y=\"224.64\"/>\n      </g>\n     </g>\n     <g id=\"text_7\">\n      <!-- A -->\n      <g transform=\"translate(302.13526 239.238437)scale(0.1 -0.1)\">\n       <use xlink:href=\"#DejaVuSans-65\"/>\n      </g>\n     </g>\n    </g>\n    <g id=\"xtick_8\">\n     <g id=\"line2d_8\">\n      <g>\n       <use style=\"stroke:#000000;stroke-width:0.8;\" x=\"344.576552\" xlink:href=\"#m266e5268af\" y=\"224.64\"/>\n      </g>\n     </g>\n     <g id=\"text_8\">\n      <!-- A+ -->\n      <g transform=\"translate(336.966395 239.238437)scale(0.1 -0.1)\">\n       <use xlink:href=\"#DejaVuSans-65\"/>\n       <use x=\"68.408203\" xlink:href=\"#DejaVuSans-43\"/>\n      </g>\n     </g>\n    </g>\n    <g id=\"text_9\">\n     <!-- GPAs -->\n     <g transform=\"translate(195.407812 252.916562)scale(0.1 -0.1)\">\n      <defs>\n       <path d=\"M 59.515625 10.40625 \nL 59.515625 29.984375 \nL 43.40625 29.984375 \nL 43.40625 38.09375 \nL 69.28125 38.09375 \nL 69.28125 6.78125 \nQ 63.578125 2.734375 56.6875 0.65625 \nQ 49.8125 -1.421875 42 -1.421875 \nQ 24.90625 -1.421875 15.25 8.5625 \nQ 5.609375 18.5625 5.609375 36.375 \nQ 5.609375 54.25 15.25 64.234375 \nQ 24.90625 74.21875 42 74.21875 \nQ 49.125 74.21875 55.546875 72.453125 \nQ 61.96875 70.703125 67.390625 67.28125 \nL 67.390625 56.78125 \nQ 61.921875 61.421875 55.765625 63.765625 \nQ 49.609375 66.109375 42.828125 66.109375 \nQ 29.4375 66.109375 22.71875 58.640625 \nQ 16.015625 51.171875 16.015625 36.375 \nQ 16.015625 21.625 22.71875 14.15625 \nQ 29.4375 6.6875 42.828125 6.6875 \nQ 48.046875 6.6875 52.140625 7.59375 \nQ 56.25 8.5 59.515625 10.40625 \nz\n\" id=\"DejaVuSans-71\"/>\n       <path d=\"M 19.671875 64.796875 \nL 19.671875 37.40625 \nL 32.078125 37.40625 \nQ 38.96875 37.40625 42.71875 40.96875 \nQ 46.484375 44.53125 46.484375 51.125 \nQ 46.484375 57.671875 42.71875 61.234375 \nQ 38.96875 64.796875 32.078125 64.796875 \nz\nM 9.8125 72.90625 \nL 32.078125 72.90625 \nQ 44.34375 72.90625 50.609375 67.359375 \nQ 56.890625 61.8125 56.890625 51.125 \nQ 56.890625 40.328125 50.609375 34.8125 \nQ 44.34375 29.296875 32.078125 29.296875 \nL 19.671875 29.296875 \nL 19.671875 0 \nL 9.8125 0 \nz\n\" id=\"DejaVuSans-80\"/>\n       <path d=\"M 44.28125 53.078125 \nL 44.28125 44.578125 \nQ 40.484375 46.53125 36.375 47.5 \nQ 32.28125 48.484375 27.875 48.484375 \nQ 21.1875 48.484375 17.84375 46.4375 \nQ 14.5 44.390625 14.5 40.28125 \nQ 14.5 37.15625 16.890625 35.375 \nQ 19.28125 33.59375 26.515625 31.984375 \nL 29.59375 31.296875 \nQ 39.15625 29.25 43.1875 25.515625 \nQ 47.21875 21.78125 47.21875 15.09375 \nQ 47.21875 7.46875 41.1875 3.015625 \nQ 35.15625 -1.421875 24.609375 -1.421875 \nQ 20.21875 -1.421875 15.453125 -0.5625 \nQ 10.6875 0.296875 5.421875 2 \nL 5.421875 11.28125 \nQ 10.40625 8.6875 15.234375 7.390625 \nQ 20.0625 6.109375 24.8125 6.109375 \nQ 31.15625 6.109375 34.5625 8.28125 \nQ 37.984375 10.453125 37.984375 14.40625 \nQ 37.984375 18.0625 35.515625 20.015625 \nQ 33.0625 21.96875 24.703125 23.78125 \nL 21.578125 24.515625 \nQ 13.234375 26.265625 9.515625 29.90625 \nQ 5.8125 33.546875 5.8125 39.890625 \nQ 5.8125 47.609375 11.28125 51.796875 \nQ 16.75 56 26.8125 56 \nQ 31.78125 56 36.171875 55.265625 \nQ 40.578125 54.546875 44.28125 53.078125 \nz\n\" id=\"DejaVuSans-115\"/>\n      </defs>\n      <use xlink:href=\"#DejaVuSans-71\"/>\n      <use x=\"77.490234\" xlink:href=\"#DejaVuSans-80\"/>\n      <use x=\"131.417969\" xlink:href=\"#DejaVuSans-65\"/>\n      <use x=\"199.826172\" xlink:href=\"#DejaVuSans-115\"/>\n     </g>\n    </g>\n   </g>\n   <g id=\"matplotlib.axis_2\">\n    <g id=\"ytick_1\">\n     <g id=\"line2d_9\">\n      <defs>\n       <path d=\"M 0 0 \nL -3.5 0 \n\" id=\"m267454545e\" style=\"stroke:#000000;stroke-width:0.8;\"/>\n      </defs>\n      <g>\n       <use style=\"stroke:#000000;stroke-width:0.8;\" x=\"40.603125\" xlink:href=\"#m267454545e\" y=\"224.64\"/>\n      </g>\n     </g>\n     <g id=\"text_10\">\n      <!-- 0 -->\n      <g transform=\"translate(27.240625 228.439219)scale(0.1 -0.1)\">\n       <defs>\n        <path d=\"M 31.78125 66.40625 \nQ 24.171875 66.40625 20.328125 58.90625 \nQ 16.5 51.421875 16.5 36.375 \nQ 16.5 21.390625 20.328125 13.890625 \nQ 24.171875 6.390625 31.78125 6.390625 \nQ 39.453125 6.390625 43.28125 13.890625 \nQ 47.125 21.390625 47.125 36.375 \nQ 47.125 51.421875 43.28125 58.90625 \nQ 39.453125 66.40625 31.78125 66.40625 \nz\nM 31.78125 74.21875 \nQ 44.046875 74.21875 50.515625 64.515625 \nQ 56.984375 54.828125 56.984375 36.375 \nQ 56.984375 17.96875 50.515625 8.265625 \nQ 44.046875 -1.421875 31.78125 -1.421875 \nQ 19.53125 -1.421875 13.0625 8.265625 \nQ 6.59375 17.96875 6.59375 36.375 \nQ 6.59375 54.828125 13.0625 64.515625 \nQ 19.53125 74.21875 31.78125 74.21875 \nz\n\" id=\"DejaVuSans-48\"/>\n       </defs>\n       <use xlink:href=\"#DejaVuSans-48\"/>\n      </g>\n     </g>\n    </g>\n    <g id=\"ytick_2\">\n     <g id=\"line2d_10\">\n      <g>\n       <use style=\"stroke:#000000;stroke-width:0.8;\" x=\"40.603125\" xlink:href=\"#m267454545e\" y=\"184.815824\"/>\n      </g>\n     </g>\n     <g id=\"text_11\">\n      <!-- 10 -->\n      <g transform=\"translate(20.878125 188.615043)scale(0.1 -0.1)\">\n       <defs>\n        <path d=\"M 12.40625 8.296875 \nL 28.515625 8.296875 \nL 28.515625 63.921875 \nL 10.984375 60.40625 \nL 10.984375 69.390625 \nL 28.421875 72.90625 \nL 38.28125 72.90625 \nL 38.28125 8.296875 \nL 54.390625 8.296875 \nL 54.390625 0 \nL 12.40625 0 \nz\n\" id=\"DejaVuSans-49\"/>\n       </defs>\n       <use xlink:href=\"#DejaVuSans-49\"/>\n       <use x=\"63.623047\" xlink:href=\"#DejaVuSans-48\"/>\n      </g>\n     </g>\n    </g>\n    <g id=\"ytick_3\">\n     <g id=\"line2d_11\">\n      <g>\n       <use style=\"stroke:#000000;stroke-width:0.8;\" x=\"40.603125\" xlink:href=\"#m267454545e\" y=\"144.991648\"/>\n      </g>\n     </g>\n     <g id=\"text_12\">\n      <!-- 20 -->\n      <g transform=\"translate(20.878125 148.790867)scale(0.1 -0.1)\">\n       <defs>\n        <path d=\"M 19.1875 8.296875 \nL 53.609375 8.296875 \nL 53.609375 0 \nL 7.328125 0 \nL 7.328125 8.296875 \nQ 12.9375 14.109375 22.625 23.890625 \nQ 32.328125 33.6875 34.8125 36.53125 \nQ 39.546875 41.84375 41.421875 45.53125 \nQ 43.3125 49.21875 43.3125 52.78125 \nQ 43.3125 58.59375 39.234375 62.25 \nQ 35.15625 65.921875 28.609375 65.921875 \nQ 23.96875 65.921875 18.8125 64.3125 \nQ 13.671875 62.703125 7.8125 59.421875 \nL 7.8125 69.390625 \nQ 13.765625 71.78125 18.9375 73 \nQ 24.125 74.21875 28.421875 74.21875 \nQ 39.75 74.21875 46.484375 68.546875 \nQ 53.21875 62.890625 53.21875 53.421875 \nQ 53.21875 48.921875 51.53125 44.890625 \nQ 49.859375 40.875 45.40625 35.40625 \nQ 44.1875 33.984375 37.640625 27.21875 \nQ 31.109375 20.453125 19.1875 8.296875 \nz\n\" id=\"DejaVuSans-50\"/>\n       </defs>\n       <use xlink:href=\"#DejaVuSans-50\"/>\n       <use x=\"63.623047\" xlink:href=\"#DejaVuSans-48\"/>\n      </g>\n     </g>\n    </g>\n    <g id=\"ytick_4\">\n     <g id=\"line2d_12\">\n      <g>\n       <use style=\"stroke:#000000;stroke-width:0.8;\" x=\"40.603125\" xlink:href=\"#m267454545e\" y=\"105.167473\"/>\n      </g>\n     </g>\n     <g id=\"text_13\">\n      <!-- 30 -->\n      <g transform=\"translate(20.878125 108.966691)scale(0.1 -0.1)\">\n       <defs>\n        <path d=\"M 40.578125 39.3125 \nQ 47.65625 37.796875 51.625 33 \nQ 55.609375 28.21875 55.609375 21.1875 \nQ 55.609375 10.40625 48.1875 4.484375 \nQ 40.765625 -1.421875 27.09375 -1.421875 \nQ 22.515625 -1.421875 17.65625 -0.515625 \nQ 12.796875 0.390625 7.625 2.203125 \nL 7.625 11.71875 \nQ 11.71875 9.328125 16.59375 8.109375 \nQ 21.484375 6.890625 26.8125 6.890625 \nQ 36.078125 6.890625 40.9375 10.546875 \nQ 45.796875 14.203125 45.796875 21.1875 \nQ 45.796875 27.640625 41.28125 31.265625 \nQ 36.765625 34.90625 28.71875 34.90625 \nL 20.21875 34.90625 \nL 20.21875 43.015625 \nL 29.109375 43.015625 \nQ 36.375 43.015625 40.234375 45.921875 \nQ 44.09375 48.828125 44.09375 54.296875 \nQ 44.09375 59.90625 40.109375 62.90625 \nQ 36.140625 65.921875 28.71875 65.921875 \nQ 24.65625 65.921875 20.015625 65.03125 \nQ 15.375 64.15625 9.8125 62.3125 \nL 9.8125 71.09375 \nQ 15.4375 72.65625 20.34375 73.4375 \nQ 25.25 74.21875 29.59375 74.21875 \nQ 40.828125 74.21875 47.359375 69.109375 \nQ 53.90625 64.015625 53.90625 55.328125 \nQ 53.90625 49.265625 50.4375 45.09375 \nQ 46.96875 40.921875 40.578125 39.3125 \nz\n\" id=\"DejaVuSans-51\"/>\n       </defs>\n       <use xlink:href=\"#DejaVuSans-51\"/>\n       <use x=\"63.623047\" xlink:href=\"#DejaVuSans-48\"/>\n      </g>\n     </g>\n    </g>\n    <g id=\"ytick_5\">\n     <g id=\"line2d_13\">\n      <g>\n       <use style=\"stroke:#000000;stroke-width:0.8;\" x=\"40.603125\" xlink:href=\"#m267454545e\" y=\"65.343297\"/>\n      </g>\n     </g>\n     <g id=\"text_14\">\n      <!-- 40 -->\n      <g transform=\"translate(20.878125 69.142515)scale(0.1 -0.1)\">\n       <defs>\n        <path d=\"M 37.796875 64.3125 \nL 12.890625 25.390625 \nL 37.796875 25.390625 \nz\nM 35.203125 72.90625 \nL 47.609375 72.90625 \nL 47.609375 25.390625 \nL 58.015625 25.390625 \nL 58.015625 17.1875 \nL 47.609375 17.1875 \nL 47.609375 0 \nL 37.796875 0 \nL 37.796875 17.1875 \nL 4.890625 17.1875 \nL 4.890625 26.703125 \nz\n\" id=\"DejaVuSans-52\"/>\n       </defs>\n       <use xlink:href=\"#DejaVuSans-52\"/>\n       <use x=\"63.623047\" xlink:href=\"#DejaVuSans-48\"/>\n      </g>\n     </g>\n    </g>\n    <g id=\"ytick_6\">\n     <g id=\"line2d_14\">\n      <g>\n       <use style=\"stroke:#000000;stroke-width:0.8;\" x=\"40.603125\" xlink:href=\"#m267454545e\" y=\"25.519121\"/>\n      </g>\n     </g>\n     <g id=\"text_15\">\n      <!-- 50 -->\n      <g transform=\"translate(20.878125 29.31834)scale(0.1 -0.1)\">\n       <defs>\n        <path d=\"M 10.796875 72.90625 \nL 49.515625 72.90625 \nL 49.515625 64.59375 \nL 19.828125 64.59375 \nL 19.828125 46.734375 \nQ 21.96875 47.46875 24.109375 47.828125 \nQ 26.265625 48.1875 28.421875 48.1875 \nQ 40.625 48.1875 47.75 41.5 \nQ 54.890625 34.8125 54.890625 23.390625 \nQ 54.890625 11.625 47.5625 5.09375 \nQ 40.234375 -1.421875 26.90625 -1.421875 \nQ 22.3125 -1.421875 17.546875 -0.640625 \nQ 12.796875 0.140625 7.71875 1.703125 \nL 7.71875 11.625 \nQ 12.109375 9.234375 16.796875 8.0625 \nQ 21.484375 6.890625 26.703125 6.890625 \nQ 35.15625 6.890625 40.078125 11.328125 \nQ 45.015625 15.765625 45.015625 23.390625 \nQ 45.015625 31 40.078125 35.4375 \nQ 35.15625 39.890625 26.703125 39.890625 \nQ 22.75 39.890625 18.8125 39.015625 \nQ 14.890625 38.140625 10.796875 36.28125 \nz\n\" id=\"DejaVuSans-53\"/>\n       </defs>\n       <use xlink:href=\"#DejaVuSans-53\"/>\n       <use x=\"63.623047\" xlink:href=\"#DejaVuSans-48\"/>\n      </g>\n     </g>\n    </g>\n    <g id=\"text_16\">\n     <!-- students -->\n     <g transform=\"translate(14.798438 137.637969)rotate(-90)scale(0.1 -0.1)\">\n      <defs>\n       <path d=\"M 18.3125 70.21875 \nL 18.3125 54.6875 \nL 36.8125 54.6875 \nL 36.8125 47.703125 \nL 18.3125 47.703125 \nL 18.3125 18.015625 \nQ 18.3125 11.328125 20.140625 9.421875 \nQ 21.96875 7.515625 27.59375 7.515625 \nL 36.8125 7.515625 \nL 36.8125 0 \nL 27.59375 0 \nQ 17.1875 0 13.234375 3.875 \nQ 9.28125 7.765625 9.28125 18.015625 \nL 9.28125 47.703125 \nL 2.6875 47.703125 \nL 2.6875 54.6875 \nL 9.28125 54.6875 \nL 9.28125 70.21875 \nz\n\" id=\"DejaVuSans-116\"/>\n       <path d=\"M 8.5 21.578125 \nL 8.5 54.6875 \nL 17.484375 54.6875 \nL 17.484375 21.921875 \nQ 17.484375 14.15625 20.5 10.265625 \nQ 23.53125 6.390625 29.59375 6.390625 \nQ 36.859375 6.390625 41.078125 11.03125 \nQ 45.3125 15.671875 45.3125 23.6875 \nL 45.3125 54.6875 \nL 54.296875 54.6875 \nL 54.296875 0 \nL 45.3125 0 \nL 45.3125 8.40625 \nQ 42.046875 3.421875 37.71875 1 \nQ 33.40625 -1.421875 27.6875 -1.421875 \nQ 18.265625 -1.421875 13.375 4.4375 \nQ 8.5 10.296875 8.5 21.578125 \nz\nM 31.109375 56 \nz\n\" id=\"DejaVuSans-117\"/>\n       <path d=\"M 45.40625 46.390625 \nL 45.40625 75.984375 \nL 54.390625 75.984375 \nL 54.390625 0 \nL 45.40625 0 \nL 45.40625 8.203125 \nQ 42.578125 3.328125 38.25 0.953125 \nQ 33.9375 -1.421875 27.875 -1.421875 \nQ 17.96875 -1.421875 11.734375 6.484375 \nQ 5.515625 14.40625 5.515625 27.296875 \nQ 5.515625 40.1875 11.734375 48.09375 \nQ 17.96875 56 27.875 56 \nQ 33.9375 56 38.25 53.625 \nQ 42.578125 51.265625 45.40625 46.390625 \nz\nM 14.796875 27.296875 \nQ 14.796875 17.390625 18.875 11.75 \nQ 22.953125 6.109375 30.078125 6.109375 \nQ 37.203125 6.109375 41.296875 11.75 \nQ 45.40625 17.390625 45.40625 27.296875 \nQ 45.40625 37.203125 41.296875 42.84375 \nQ 37.203125 48.484375 30.078125 48.484375 \nQ 22.953125 48.484375 18.875 42.84375 \nQ 14.796875 37.203125 14.796875 27.296875 \nz\n\" id=\"DejaVuSans-100\"/>\n       <path d=\"M 56.203125 29.59375 \nL 56.203125 25.203125 \nL 14.890625 25.203125 \nQ 15.484375 15.921875 20.484375 11.0625 \nQ 25.484375 6.203125 34.421875 6.203125 \nQ 39.59375 6.203125 44.453125 7.46875 \nQ 49.3125 8.734375 54.109375 11.28125 \nL 54.109375 2.78125 \nQ 49.265625 0.734375 44.1875 -0.34375 \nQ 39.109375 -1.421875 33.890625 -1.421875 \nQ 20.796875 -1.421875 13.15625 6.1875 \nQ 5.515625 13.8125 5.515625 26.8125 \nQ 5.515625 40.234375 12.765625 48.109375 \nQ 20.015625 56 32.328125 56 \nQ 43.359375 56 49.78125 48.890625 \nQ 56.203125 41.796875 56.203125 29.59375 \nz\nM 47.21875 32.234375 \nQ 47.125 39.59375 43.09375 43.984375 \nQ 39.0625 48.390625 32.421875 48.390625 \nQ 24.90625 48.390625 20.390625 44.140625 \nQ 15.875 39.890625 15.1875 32.171875 \nz\n\" id=\"DejaVuSans-101\"/>\n       <path d=\"M 54.890625 33.015625 \nL 54.890625 0 \nL 45.90625 0 \nL 45.90625 32.71875 \nQ 45.90625 40.484375 42.875 44.328125 \nQ 39.84375 48.1875 33.796875 48.1875 \nQ 26.515625 48.1875 22.3125 43.546875 \nQ 18.109375 38.921875 18.109375 30.90625 \nL 18.109375 0 \nL 9.078125 0 \nL 9.078125 54.6875 \nL 18.109375 54.6875 \nL 18.109375 46.1875 \nQ 21.34375 51.125 25.703125 53.5625 \nQ 30.078125 56 35.796875 56 \nQ 45.21875 56 50.046875 50.171875 \nQ 54.890625 44.34375 54.890625 33.015625 \nz\n\" id=\"DejaVuSans-110\"/>\n      </defs>\n      <use xlink:href=\"#DejaVuSans-115\"/>\n      <use x=\"52.099609\" xlink:href=\"#DejaVuSans-116\"/>\n      <use x=\"91.308594\" xlink:href=\"#DejaVuSans-117\"/>\n      <use x=\"154.6875\" xlink:href=\"#DejaVuSans-100\"/>\n      <use x=\"218.164062\" xlink:href=\"#DejaVuSans-101\"/>\n      <use x=\"279.6875\" xlink:href=\"#DejaVuSans-110\"/>\n      <use x=\"343.066406\" xlink:href=\"#DejaVuSans-116\"/>\n      <use x=\"382.275391\" xlink:href=\"#DejaVuSans-115\"/>\n     </g>\n    </g>\n   </g>\n   <g id=\"patch_11\">\n    <path d=\"M 40.603125 224.64 \nL 40.603125 7.2 \n\" style=\"fill:none;stroke:#000000;stroke-linecap:square;stroke-linejoin:miter;stroke-width:0.8;\"/>\n   </g>\n   <g id=\"patch_12\">\n    <path d=\"M 375.403125 224.64 \nL 375.403125 7.2 \n\" style=\"fill:none;stroke:#000000;stroke-linecap:square;stroke-linejoin:miter;stroke-width:0.8;\"/>\n   </g>\n   <g id=\"patch_13\">\n    <path d=\"M 40.603125 224.64 \nL 375.403125 224.64 \n\" style=\"fill:none;stroke:#000000;stroke-linecap:square;stroke-linejoin:miter;stroke-width:0.8;\"/>\n   </g>\n   <g id=\"patch_14\">\n    <path d=\"M 40.603125 7.2 \nL 375.403125 7.2 \n\" style=\"fill:none;stroke:#000000;stroke-linecap:square;stroke-linejoin:miter;stroke-width:0.8;\"/>\n   </g>\n  </g>\n </g>\n <defs>\n  <clipPath id=\"p0d820fc971\">\n   <rect height=\"217.44\" width=\"334.8\" x=\"40.603125\" y=\"7.2\"/>\n  </clipPath>\n </defs>\n</svg>\n",
      "image/png": "[encoded data removed]"
     },
     "metadata": {
      "needs_background": "light"
     }
    }
   ],
   "source": [
    "grades_map = {}\n",
    "\n",
    "for key, letter in enumerate(['A', 'B', 'C', 'D']):\n",
    "    for offset, modifier in [(0.3, '+'), (0, ''), (-0.3, '-')]:\n",
    "        numerical_gpa = 4 - key + offset\n",
    "        letter_grade = letter + modifier\n",
    "        grades_map[letter_grade] = {\n",
    "            'gpa': numerical_gpa,\n",
    "            'students': []\n",
    "        }\n",
    "# pprint(grades_map, indent=4)\n",
    "\n",
    "def category(gpa: float, grades_map: dict) -> tuple:\n",
    "    '''Return the letter grade closest to the gpa'''\n",
    "    gpa_distance_tuple = [\n",
    "        (gpa, grades_map[g]['gpa'], (gpa-grades_map[g]['gpa'])**2) for g in grades_map\n",
    "    ]\n",
    "    closest_match = min(gpa_distance_tuple, key=lambda x: x[2])\n",
    "    return closest_match\n",
    "\n",
    "def plot_gpas(data, grades_map: dict) ->None:\n",
    "    q = data.columns\n",
    "    gpas = data[q[5]].values\n",
    "    grades = [category(gpa, grades_map)[1] for gpa in gpas]\n",
    "    bar_chart = Counter(grades)\n",
    "    hist = sorted(bar_chart.items())\n",
    "    histogram = {}\n",
    "    for gpa, count in hist:\n",
    "        letter = max([g if grades_map[g]['gpa'] == gpa else '' for g in grades_map ])\n",
    "        histogram[letter] = count\n",
    "\n",
    "    \n",
    "    plt.bar(histogram.keys(), histogram.values(), edgecolor = 'black')\n",
    "    plt.xlabel(\"GPAs\")\n",
    "    plt.ylabel(\"students\")\n",
    "    plt.show()\n",
    "\n",
    "plot_gpas(data, grades_map)"
   ]
  },
  {
   "cell_type": "markdown",
   "metadata": {},
   "source": [
    "You can see that the lowest gpas are a little bellow 2 and the highest is 4.3 with a little over 200 respondents"
   ]
  },
  {
   "cell_type": "markdown",
   "metadata": {},
   "source": [
    "### Basic sample attributes\n",
    "Next up, we write the code for extracting crucial information for our analysis. Namely, we are looking for sample mean, variance, standard deviation, and median."
   ]
  },
  {
   "cell_type": "code",
   "execution_count": 32,
   "metadata": {},
   "outputs": [],
   "source": [
    "# extract GPAs from dataframe\n",
    "def gpa_list(data):\n",
    "    return list(data.iloc[:, 5])\n",
    "\n",
    "def sample_size(data):\n",
    "    return len(data.index)\n",
    "\n",
    "def mean_gpa(data):\n",
    "    gpas = gpa_list(data)\n",
    "    sample_mean = sum(gpas)/len(gpas)\n",
    "    return sample_mean\n",
    "\n",
    "\n",
    "def sample_gpa_variance(data):\n",
    "    # Extract gpas as numpy array to propagate math operations without looping\n",
    "    # over each element.\n",
    "    gpas = np.array(gpa_list(data))\n",
    "    variance = (sum(gpas**2) - sum(gpas)**2/len(gpas)) / (len(gpas)-1)\n",
    "    return variance\n",
    "\n",
    "\n",
    "def std_dev_gpa(data):\n",
    "    return math.sqrt(sample_gpa_variance(data))\n",
    "\n",
    "\n",
    "def median_gpa(data):\n",
    "    gpas = gpa_list(data)\n",
    "    midpoint = int(len(gpas)/2)\n",
    "    if len(gpas) % 2 == 0:\n",
    "        return gpas[midpoint]\n",
    "    lower = gpas[midpoint]\n",
    "    upper = gpas[midpoint+1]\n",
    "    median = (lower+upper)/2\n",
    "    return median\n"
   ]
  },
  {
   "cell_type": "markdown",
   "metadata": {},
   "source": [
    "#### Now let's compute them and print them\n",
    "$\\bar{x}$, $S^{2}$, $S$ and median are show below: "
   ]
  },
  {
   "cell_type": "code",
   "execution_count": 35,
   "metadata": {},
   "outputs": [
    {
     "name": "stdout",
     "output_type": "stream",
     "text": [
      "sample size: 206\n",
      "mean: 3.289\n",
      "variance: 0.269\n",
      "standard dev: 0.518\n",
      "median: 3.4\n"
     ]
    }
   ],
   "source": [
    "n = sample_size(data)\n",
    "xbar = round(mean_gpa(data),3)\n",
    "S_squared = round(sample_gpa_variance(data),3)\n",
    "S = round(std_dev_gpa(data),3)\n",
    "\n",
    "print(\"sample size:\", n)\n",
    "print(\"mean:\", xbar)\n",
    "print(\"variance:\", S_squared)\n",
    "print(\"standard dev:\", S)\n",
    "print(\"median:\", median_gpa(data))"
   ]
  },
  {
   "cell_type": "markdown",
   "metadata": {},
   "source": [
    "### Testing for Normality\n",
    "Since practically forever, We have been hearing profs say that they create normal distributions out of final percent grades to assign letter grades. Because GPA is technically just a linear combination of final grades, there is a high chance that it is also normally distributed.\n",
    "\n",
    "However, we did not want to make such an assumption without first seeing some evidence to back it up.\n",
    "\n",
    "To test for normality we will use a technique called normal plotting. First sort all GPAs in order and assign them a value j corresponding to their order in the list (i.e. the smallest GPA is assigned $j=1$ and the largest GPA is assigned $j=n$, where n is the number of total GPAs. By computing the bellow formula and plotting it's result against the corresponding GPAs we can visualise the data distribution. If a linear regression closely approximates the data than it is safe to assume that the underlying data is normally distributed.\n",
    "\n",
    "The functions bellow uses the following procedure to test sample data.\n",
    "\n",
    " \n",
    "\\begin{align}\n",
    "Y_{j} = \\frac{(j - 0.5)}{n} \\\\\n",
    "X_{j} = GPA_{j}\n",
    "\\end{align}\n",
    "\n",
    "```For each j from 1 to n plot``` \\begin{align}(x_{j},y_{j})\\end{align}"
   ]
  },
  {
   "cell_type": "code",
   "execution_count": 40,
   "metadata": {},
   "outputs": [
    {
     "data": {
      "text/plain": [
       "Text(0.5, 1.0, 'Normal Test')"
      ]
     },
     "execution_count": 40,
     "metadata": {},
     "output_type": "execute_result"
    },
    {
     "data": {
      "image/png": "[encoded data removed]",
      "text/plain": [
       "<Figure size 432x288 with 1 Axes>"
      ]
     },
     "metadata": {
      "needs_background": "light"
     },
     "output_type": "display_data"
    }
   ],
   "source": [
    "js = [j+1 for j in range(0, len(gpa_copy))]\n",
    "prob_dis = [(j-0.5) / (len(js)) for j in js]\n",
    "\n",
    "plt.scatter(gpa_copy, prob_dis, s=7, alpha=0.7)\n",
    "plt.xlabel('GPAs')\n",
    "plt.ylabel('Probability')\n",
    "plt.title('Normal Test')"
   ]
  },
  {
   "cell_type": "code",
   "execution_count": 41,
   "metadata": {},
   "outputs": [
    {
     "data": {
      "text/plain": [
       "Text(0.5, 1.0, 'Best Fit Line')"
      ]
     },
     "execution_count": 41,
     "metadata": {},
     "output_type": "execute_result"
    },
    {
     "data": {
      "image/png": "[encoded data removed]",
      "text/plain": [
       "<Figure size 432x288 with 1 Axes>"
      ]
     },
     "metadata": {
      "needs_background": "light"
     },
     "output_type": "display_data"
    }
   ],
   "source": [
    "b, m = polyfit(gpa_copy, prob_dis, 1)\n",
    "plt.plot(gpa_copy, prob_dis)\n",
    "plt.plot(gpa_copy, b + m * gpa_copy, '-')\n",
    "plt.xlabel('GPAs')\n",
    "plt.ylabel('y_j')\n",
    "plt.title('Best Fit Line')"
   ]
  },
  {
   "cell_type": "markdown",
   "metadata": {},
   "source": [
    "The points are quite close to their linear regression and we feel it is safe to proceed forward with the assumption that GPAs are normally distributed."
   ]
  },
  {
   "cell_type": "markdown",
   "metadata": {},
   "source": [
    "## Hypothesis Testing\n",
    "### Step 1-3\n",
    "For this study, the mean $\\mu$ of the GPAs collected is our parameter of interest and we  decided to conduct a two-sided test because, if we are wrong about the mean, we don't know in advance whether the true mean is higher or lower than our initial guess.\n",
    "\n",
    "$H_{0}$: $\\mu = 3.2$ \n",
    "\n",
    "$H_{1}$: $\\mu \\neq 3.2$\n",
    "\n",
    "We wish to test the following hypothesis with 98% confidence. Therefore $\\alpha = 2\\% = 0.02$\n"
   ]
  },
  {
   "cell_type": "markdown",
   "metadata": {},
   "source": [
    "### Step 4 \n",
    "Our sample size is $n = 206$ and since $n>30$ we can use the Z-distribution instead of the T-distribution even though we don't know the true population variance.\n",
    "\n",
    "$Z_{\\bar{x}}= \\frac{\\bar{x}-\\mu}{s / \\sqrt{n}}$\n",
    "\n",
    "\n",
    "#### Test statistic\n",
    "below you can find the code to calculate the test statistic $Z_{\\bar{x}}$ given a sample mean, population mean, population standard deviation and sample size. As mentioned earlier, we will use sample standard deviation as an accurate estimator of the true $\\sigma$ given our large sample size"
   ]
  },
  {
   "cell_type": "code",
   "execution_count": 54,
   "metadata": {},
   "outputs": [],
   "source": [
    "def calculate_Z_value(mu0, X_bar, S, n):\n",
    "    # because our sample size is greater than 200, we feel confident of\n",
    "    # estimating sigma using S. In this way we can use the Z-distribution\n",
    "    # instead of the T-distribution. This is often done when n > 30.\n",
    "    Z = (X_bar - mu0)/(S/math.sqrt(n))\n",
    "    return Z"
   ]
  },
  {
   "cell_type": "markdown",
   "metadata": {},
   "source": [
    "### Step 5\n",
    "\n",
    "#### if \n",
    "$\\pm Z_{\\bar{x}}< \\pm Z_{ \\alpha/2}$\n",
    "\n",
    "Then we will reject our null hypothesis because it would indicate that we have less than a 2% chance to obtain a sample mean of 3.289 if $\\mu = 3.2$.\n",
    "\n",
    "Below you can see the code for computing the critical values (i.e $\\pm Z_{ \\alpha/2}$) and the $p-value$"
   ]
  },
  {
   "cell_type": "code",
   "execution_count": 62,
   "metadata": {},
   "outputs": [],
   "source": [
    "def find_Z_alpha(confidence):\n",
    "    alpha = 1-confidence\n",
    "    Z_alpha_over2 = abs(Z_from_probability(1-alpha/2))\n",
    "    return alpha, Z_alpha_over2\n",
    "\n",
    "def calculate_p_value(Z):\n",
    "    p_value = 2*probability_of_Z(-abs(Z))\n",
    "    return p_value"
   ]
  },
  {
   "cell_type": "markdown",
   "metadata": {},
   "source": [
    "### Step 6\n",
    "#### Let's perform all necessary computations to test our hypthesis\n"
   ]
  },
  {
   "cell_type": "code",
   "execution_count": 65,
   "metadata": {},
   "outputs": [
    {
     "name": "stdout",
     "output_type": "stream",
     "text": [
      "alpha: 0.02\n",
      "Z_alpha/2: 2.326\n",
      "\n",
      "given our data our test statistic Z = 2.466\n",
      "\n",
      "It appears that our test statistic lands beyond the critical values.\n",
      "\n",
      "The P-value for our sample is: 0.014\n",
      "\n",
      "We can safely reject the null hypothesis as p=0.014 < alpha=0.02\n"
     ]
    }
   ],
   "source": [
    "confidence_level = 0.98\n",
    "alpha, cutoff_Z = find_Z_alpha(confidence_level)\n",
    "alpha = round(alpha,3)\n",
    "cutoff_Z = round(cutoff_Z,3)\n",
    "print(\"alpha:\", alpha)\n",
    "print(\"Z_alpha/2:\", cutoff_Z)\n",
    "print()\n",
    "\n",
    "Z = round(calculate_Z_value(3.2,xbar,S,n),3)\n",
    "print(\"given our data our test statistic Z =\",Z)\n",
    "print()\n",
    "\n",
    "if abs(Z)> abs(cutoff_Z):\n",
    "    print(\"It appears that our test statistic lands beyond the critical values.\")\n",
    "else:\n",
    "    print(\"The test statistic lands in the accepted interval of values (i.e the confidence interval)\")\n",
    "print()\n",
    "\n",
    "\n",
    "p = calculate_p_value(Z)\n",
    "p = round(p,3)\n",
    "print(\"The P-value for our sample is:\",p)\n",
    "print()\n",
    "\n",
    "if p < alpha:\n",
    "    print(\"We can safely reject the null hypothesis as p={} < alpha={}\".format(p,alpha))"
   ]
  },
  {
   "cell_type": "markdown",
   "metadata": {},
   "source": [
    "### Step 7: interpretation\n",
    "\n",
    "The $p-value$ essential says: \"if your initial hypothesis is true, then you have a $p$ chance of getting the results shown by your sample data\". In this case our $p-value$ is 0.014 which means that we only have a 1.4% chance of getting a sample mean of 3.289 if the true mean was 3.20.\n",
    "\n",
    "So we reject our initial hypothesis. "
   ]
  },
  {
   "cell_type": "markdown",
   "metadata": {},
   "source": [
    "### Alternate hypothesis\n",
    "\n",
    "Let's see if we can find an alternate hypothesis that is more plausible. given that 3.289 is much closer to 3.30 than it is to 3.20 lets see if it is a reasonable hypothesis to assume that the population mean is equal to 3.30."
   ]
  },
  {
   "cell_type": "code",
   "execution_count": 81,
   "metadata": {},
   "outputs": [
    {
     "name": "stdout",
     "output_type": "stream",
     "text": [
      "The new test statistic is: 0.3048\n",
      "The new p value is: 0.761\n"
     ]
    }
   ],
   "source": [
    "new_Z = abs(calculate_Z_value(3.3,xbar,S,n))\n",
    "new_Z = round(new_Z,4)\n",
    "\n",
    "new_p = round(calculate_p_value(new_Z),3)\n",
    "print(\"The new test statistic is:\",new_Z)\n",
    "print(\"The new p value is:\",new_p)"
   ]
  },
  {
   "cell_type": "markdown",
   "metadata": {},
   "source": [
    "This $p-value$ is well above $\\alpha$. In fact what this says is that if the true mean is $3.3$ than we have a $76.1\\%$ chance of obtaining a sample mean of $3.289$ (or farther from $\\mu$). Since this is a very plausible scenario we fail to reject the alternate hypothesis."
   ]
  },
  {
   "cell_type": "markdown",
   "metadata": {},
   "source": [
    "### Analysing Type I & II Error\n",
    "\n",
    "Recall that Type I error is the probability to reject $H_{0}$ when it is true. That is, by definition, the value of $\\alpha$... $\\alpha = 1 - confidence$. So our Type I error is $2\\%$\n",
    "\n",
    "Type 2 Error (i.e. $\\beta$) is the probability of failing to reject $H_{0}$ when it is false. For this, we will keep our alternate hypothesis value of $\\mu = 3.3$. To understand this better, imagine two normal distributions: one for $H_{0}$, and one for $H_{1}$ slightly to the right of the first. $\\beta$ is the area under the second distribution bounded by the critical values of the first distribution.\n",
    "\n",
    "\n",
    "Following the formula for $\\beta$\n",
    "\\begin{align}\n",
    "\\beta = \\phi[Z_{ \\alpha / 2} - \\frac{\\delta\\sqrt(n)}{s}] - \\phi[-Z_{ \\alpha / 2} - \\frac{\\delta\\sqrt(n)}{s}]\n",
    "\\end{align}\n",
    "\n",
    "Gives us:"
   ]
  },
  {
   "cell_type": "code",
   "execution_count": 87,
   "metadata": {},
   "outputs": [
    {
     "name": "stdout",
     "output_type": "stream",
     "text": [
      "beta error: 0.328\n",
      "power of test: 0.672\n"
     ]
    }
   ],
   "source": [
    "def beta_error(Zalpha2, sigma, n, mu0=3.2, mu1=3.3):\n",
    "    old_Z = abs(Zalpha2)\n",
    "    diff = (mu1-mu0)*math.sqrt(n)/sigma\n",
    "    beta = probability_of_Z(old_Z-diff) - probability_of_Z(-old_Z-diff)\n",
    "    return beta\n",
    "\n",
    "\n",
    "beta = beta_error(cutoff_Z, S, n)\n",
    "print(\"beta error:\", round(beta,3))\n",
    "print(\"power of test:\", round(1-beta,3))"
   ]
  },
  {
   "cell_type": "markdown",
   "metadata": {},
   "source": [
    "We see that we have $33\\%$ chance of accepting our $H_{0}$ when it is false, which is pretty high. To reduce that error, one would need to increase the sample size."
   ]
  },
  {
   "cell_type": "markdown",
   "metadata": {},
   "source": [
    "## Discussion\n",
    "\n",
    "#### Limitations:\n",
    "\n",
    "First of all, the method of collecting our sample was pseudo-random. We created an online survey and blasted links on social media pages and groups to get our friends and friends of friends to take the survey. Therefore the data might have some bias in that we are not sure if our social circles are good enough representations of the population that we are studying: undergrad students of the 5 above mentioned universities. In fact one thing is for sure, social circles are not random phenomena, and therefore there probably is bias in the data. What the bias is and to what extent it skews the data are questions that are well beyond the scope of this project and that we won't even attempt to answer, (simply because we have no clue) hoping that the bias is small enough.\n",
    "\n",
    "Second of all, the whole study is predicated on the assumption that GPAs are normally distributed. We have some decent reasons to make that assumption but we are not sure that the linear regression presented in the section on normal testing is close enough for that assumption to be made. The reason for this is that the textbook is not at all clear on the  criteria for what makes the regression \"close enough\" to the data points. If our logic is flawed regarding this specific topic, then our whole hypothesis and numerical analysis is not worth much.\n",
    "\n",
    "Third, the GPAs that we collected are as accurate as people have been truthfull. We don't expect people to lie about their GPAs because we don't see the motive or the incentive but that remains something to consider.\n",
    "\n",
    "#### Expansion of scope:\n",
    "\n",
    "As mentioned in the introduction, we initially wanted to collect metrics to be able to predict the GPA of a student given some data about their studying habits. We quickly found that this was outside of the scope and requirement of the project, so we adapted our hypothesis. However we are still very interested in seeing if we can accurately predict GPAs. If we are able to make something worthwhile out of the collected data we will make sure to post our results at the following [link](http://stats.study.ribalaladeeb.com)."
   ]
  }
 ],
 "metadata": {
  "kernelspec": {
   "name": "python38564bitcomp432condaeb7ca64abdef46ef98bf3c76341124d1",
   "display_name": "Python 3.8.5 64-bit ('comp432': conda)"
  },
  "language_info": {
   "codemirror_mode": {
    "name": "ipython",
    "version": 3
   },
   "file_extension": ".py",
   "mimetype": "text/x-python",
   "name": "python",
   "nbconvert_exporter": "python",
   "pygments_lexer": "ipython3",
   "version": "3.8.5"
  },
  "metadata": {
   "interpreter": {
    "hash": "3c803891a7aed676fcc5b04bc752618aadf3280347aad853ccf8e6baa35f2be1"
   }
  }
 },
 "nbformat": 4,
 "nbformat_minor": 2
}