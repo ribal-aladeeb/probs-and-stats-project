{
 "cells": [
  {
   "cell_type": "code",
   "execution_count": 1,
   "metadata": {},
   "outputs": [],
   "source": [
    "import pandas as pd\n",
    "import numpy as np\n",
    "import csv\n",
    "from matplotlib import pyplot as plt"
   ]
  },
  {
   "cell_type": "code",
   "execution_count": 2,
   "metadata": {},
   "outputs": [],
   "source": [
    "survey_responses = pd.read_csv(\"Success Factors Study.csv\")"
   ]
  },
  {
   "cell_type": "code",
   "execution_count": 3,
   "metadata": {},
   "outputs": [],
   "source": [
    "sr = survey_responses.copy()\n",
    "#sr.head()"
   ]
  },
  {
   "cell_type": "code",
   "execution_count": 4,
   "metadata": {},
   "outputs": [],
   "source": [
    "sr.drop(['Respondent ID', 'Collector ID', 'Start Date', 'End Date', 'IP Address'], axis=1, inplace = True)"
   ]
  },
  {
   "cell_type": "code",
   "execution_count": 5,
   "metadata": {},
   "outputs": [],
   "source": [
    "sr.drop(['Email Address', 'First Name', 'Last Name', 'Custom Data 1'], axis=1, inplace = True)"
   ]
  },
  {
   "cell_type": "code",
   "execution_count": 6,
   "metadata": {},
   "outputs": [],
   "source": [
    "sr.drop([\"What faculty are you in?\", \"Unnamed: 10\"], axis=1, inplace=True)"
   ]
  },
  {
   "cell_type": "code",
   "execution_count": 7,
   "metadata": {},
   "outputs": [],
   "source": [
    "holder = \"Please enter your email address.**We assure you that we strip emails from the rest of the data and make sure that all analysis remains anonymous. We will use emails to build a mailing list and send you the result of our study.\"\n",
    "sr.drop([holder], axis=1, inplace=True)\n",
    "sr.drop([\"What is the scale of your GPA?\"], axis=1, inplace=True)"
   ]
  },
  {
   "cell_type": "code",
   "execution_count": 8,
   "metadata": {},
   "outputs": [
    {
     "data": {
      "text/html": [
       "<div>\n",
       "<style scoped>\n",
       "    .dataframe tbody tr th:only-of-type {\n",
       "        vertical-align: middle;\n",
       "    }\n",
       "\n",
       "    .dataframe tbody tr th {\n",
       "        vertical-align: top;\n",
       "    }\n",
       "\n",
       "    .dataframe thead th {\n",
       "        text-align: right;\n",
       "    }\n",
       "</style>\n",
       "<table border=\"1\" class=\"dataframe\">\n",
       "  <thead>\n",
       "    <tr style=\"text-align: right;\">\n",
       "      <th></th>\n",
       "      <th>On average how many courses do you take per semester? (only take into account fall/winter semesters)</th>\n",
       "      <th>How many hours do you work per week at a job unrelated to school?</th>\n",
       "      <th>On average, how many days in a week do you not study at all? By studying we mean any work that you do for school. Don't include attending lectures/tutorials/labs</th>\n",
       "      <th>On a day that you do study, how many hours do you study?</th>\n",
       "      <th>Finally, what is your gpa?</th>\n",
       "    </tr>\n",
       "  </thead>\n",
       "  <tbody>\n",
       "    <tr>\n",
       "      <th>1</th>\n",
       "      <td>5</td>\n",
       "      <td>0</td>\n",
       "      <td>1</td>\n",
       "      <td>10</td>\n",
       "      <td>3.49</td>\n",
       "    </tr>\n",
       "    <tr>\n",
       "      <th>2</th>\n",
       "      <td>5</td>\n",
       "      <td>21-25</td>\n",
       "      <td>4</td>\n",
       "      <td>9</td>\n",
       "      <td>2.5</td>\n",
       "    </tr>\n",
       "    <tr>\n",
       "      <th>3</th>\n",
       "      <td>4</td>\n",
       "      <td>21-25</td>\n",
       "      <td>1</td>\n",
       "      <td>6</td>\n",
       "      <td>2.5</td>\n",
       "    </tr>\n",
       "    <tr>\n",
       "      <th>4</th>\n",
       "      <td>4</td>\n",
       "      <td>0</td>\n",
       "      <td>2</td>\n",
       "      <td>5</td>\n",
       "      <td>2.83</td>\n",
       "    </tr>\n",
       "    <tr>\n",
       "      <th>5</th>\n",
       "      <td>4</td>\n",
       "      <td>11-15</td>\n",
       "      <td>3</td>\n",
       "      <td>6</td>\n",
       "      <td>3.7</td>\n",
       "    </tr>\n",
       "  </tbody>\n",
       "</table>\n",
       "</div>"
      ],
      "text/plain": [
       "  On average how many courses do you take per semester? (only take into account fall/winter semesters)  \\\n",
       "1                                                  5                                                     \n",
       "2                                                  5                                                     \n",
       "3                                                  4                                                     \n",
       "4                                                  4                                                     \n",
       "5                                                  4                                                     \n",
       "\n",
       "  How many hours do you work per week at a job unrelated to school?  \\\n",
       "1                                                  0                  \n",
       "2                                              21-25                  \n",
       "3                                              21-25                  \n",
       "4                                                  0                  \n",
       "5                                              11-15                  \n",
       "\n",
       "  On average, how many days in a week do you not study at all? By studying we mean any work that you do for school. Don't include attending lectures/tutorials/labs  \\\n",
       "1                                                  1                                                                                                                  \n",
       "2                                                  4                                                                                                                  \n",
       "3                                                  1                                                                                                                  \n",
       "4                                                  2                                                                                                                  \n",
       "5                                                  3                                                                                                                  \n",
       "\n",
       "  On a day that you do study, how many hours do you study?  \\\n",
       "1                                                 10         \n",
       "2                                                  9         \n",
       "3                                                  6         \n",
       "4                                                  5         \n",
       "5                                                  6         \n",
       "\n",
       "  Finally, what is your gpa?  \n",
       "1                       3.49  \n",
       "2                        2.5  \n",
       "3                        2.5  \n",
       "4                       2.83  \n",
       "5                        3.7  "
      ]
     },
     "execution_count": 8,
     "metadata": {},
     "output_type": "execute_result"
    }
   ],
   "source": [
    "sr.drop(sr.index[0], inplace=True)\n",
    "sr.head()\n"
   ]
  },
  {
   "cell_type": "code",
   "execution_count": 9,
   "metadata": {},
   "outputs": [],
   "source": [
    "q1 = \"On average how many courses do you take per semester? (only take into account fall/winter semesters)\"\n",
    "q2 = \"How many hours do you work per week at a job unrelated to school?\"\n",
    "q3 = \"On average, how many days in a week do you not study at all? By studying we mean any work that you do for school. Don't include attending lectures/tutorials/labs\"\n",
    "q4 = \"On a day that you do study, how many hours do you study?\"\n",
    "q5 = \"Finally, what is your gpa?\"\n",
    "sr.rename(columns={q1: \"Courses\", q2: \"Work\", q3: \"Days_Break\", q4: \"Study_Hours\", q5: \"GPA\"}, inplace=True)\n",
    "#sr.head()"
   ]
  },
  {
   "cell_type": "code",
   "execution_count": 10,
   "metadata": {},
   "outputs": [],
   "source": [
    "sr['GPA'] = pd.to_numeric(sr['GPA']);\n",
    "sr['Courses'] = pd.to_numeric(sr['Courses']);\n",
    "sr['Days_Break'] = pd.to_numeric(sr['Days_Break']);"
   ]
  },
  {
   "cell_type": "code",
   "execution_count": 11,
   "metadata": {},
   "outputs": [],
   "source": [
    "sr['Study_Hours'].replace(\"11+\", 11, inplace=True);\n",
    "sr['Study_Hours'] = pd.to_numeric(sr['Study_Hours']);"
   ]
  },
  {
   "cell_type": "code",
   "execution_count": 12,
   "metadata": {},
   "outputs": [],
   "source": [
    "list_a = [\"1-5\", \"6-10\", \"11-15\", \"16-20\", \"21-25\", \"26-30\", \"31+\"]\n",
    "list_b = [3, 8, 13, 18, 23, 28, 31]\n",
    "sr['Work'].replace(list_a, list_b, inplace=True);\n",
    "sr['Work'] = pd.to_numeric(sr['Work'])\n"
   ]
  },
  {
   "cell_type": "code",
   "execution_count": 13,
   "metadata": {},
   "outputs": [
    {
     "data": {
      "text/plain": [
       "GPA            1.000000\n",
       "Courses        0.078525\n",
       "Study_Hours   -0.089598\n",
       "Days_Break    -0.179787\n",
       "Work          -0.201984\n",
       "Name: GPA, dtype: float64"
      ]
     },
     "execution_count": 13,
     "metadata": {},
     "output_type": "execute_result"
    }
   ],
   "source": [
    "sr.head()\n",
    "corr_matrix = sr.corr()\n",
    "corr_matrix[\"GPA\"].sort_values(ascending=False)"
   ]
  },
  {
   "cell_type": "code",
   "execution_count": 14,
   "metadata": {},
   "outputs": [],
   "source": [
    "courses, work, days_break, study_hours, gpa = [], [], [], [], []\n",
    "courses, work, days_break, study_hours, gpa = sr['Courses'], sr['Work'], sr['Days_Break'], sr['Study_Hours'], sr['GPA']\n"
   ]
  },
  {
   "cell_type": "code",
   "execution_count": 15,
   "metadata": {},
   "outputs": [],
   "source": [
    "gpa_copy = gpa.sort_values()"
   ]
  },
  {
   "cell_type": "code",
   "execution_count": 16,
   "metadata": {},
   "outputs": [
    {
     "data": {
      "text/plain": [
       "172    0.000\n",
       "138    0.000\n",
       "141    0.100\n",
       "115    0.100\n",
       "118    1.970\n",
       "38     2.000\n",
       "37     2.000\n",
       "32     2.000\n",
       "86     2.200\n",
       "204    2.290\n",
       "192    2.300\n",
       "64     2.300\n",
       "122    2.300\n",
       "97     2.350\n",
       "131    2.400\n",
       "6      2.500\n",
       "2      2.500\n",
       "3      2.500\n",
       "45     2.500\n",
       "9      2.500\n",
       "24     2.500\n",
       "31     2.500\n",
       "199    2.500\n",
       "183    2.530\n",
       "69     2.580\n",
       "119    2.600\n",
       "80     2.600\n",
       "155    2.600\n",
       "91     2.700\n",
       "130    2.700\n",
       "       ...  \n",
       "14     3.900\n",
       "26     3.900\n",
       "144    3.900\n",
       "52     3.900\n",
       "76     3.900\n",
       "210    3.940\n",
       "194    3.970\n",
       "187    3.980\n",
       "127    3.990\n",
       "209    4.000\n",
       "10     4.000\n",
       "21     4.000\n",
       "89     4.000\n",
       "20     4.000\n",
       "46     4.000\n",
       "71     4.030\n",
       "180    4.040\n",
       "189    4.100\n",
       "140    4.100\n",
       "82     4.100\n",
       "208    4.120\n",
       "206    4.153\n",
       "120    4.200\n",
       "205    4.200\n",
       "186    4.200\n",
       "51     4.230\n",
       "109    4.230\n",
       "190    4.280\n",
       "43     4.300\n",
       "156    4.300\n",
       "Name: GPA, Length: 211, dtype: float64"
      ]
     },
     "execution_count": 16,
     "metadata": {},
     "output_type": "execute_result"
    }
   ],
   "source": [
    "gpa_copy"
   ]
  },
  {
   "cell_type": "code",
   "execution_count": 17,
   "metadata": {},
   "outputs": [],
   "source": [
    "gpa_copy = gpa_copy.drop_duplicates()\n",
    "gpa_copy = gpa_copy.iloc[2:]\n"
   ]
  },
  {
   "cell_type": "code",
   "execution_count": 18,
   "metadata": {},
   "outputs": [
    {
     "data": {
      "text/plain": [
       "<Figure size 432x288 with 0 Axes>"
      ]
     },
     "execution_count": 18,
     "metadata": {},
     "output_type": "execute_result"
    },
    {
     "data": {
      "image/png": "[encoded data removed]",
      "text/plain": [
       "<Figure size 432x288 with 1 Axes>"
      ]
     },
     "metadata": {},
     "output_type": "display_data"
    },
    {
     "data": {
      "text/plain": [
       "<Figure size 432x288 with 0 Axes>"
      ]
     },
     "metadata": {},
     "output_type": "display_data"
    }
   ],
   "source": [
    "js = [j+1 for j in range(0, len(gpa_copy))]\n",
    "prob_dis = [(j-0.5) / (len(js)) for j in js]\n",
    "plt.scatter(gpa_copy, prob_dis, s=7, alpha=0.5)\n",
    "plt.show\n",
    "plt.figure()\n"
   ]
  },
  {
   "cell_type": "code",
   "execution_count": 19,
   "metadata": {},
   "outputs": [
    {
     "data": {
      "image/png": "[encoded data removed]",
      "text/plain": [
       "<Figure size 432x288 with 1 Axes>"
      ]
     },
     "metadata": {},
     "output_type": "display_data"
    }
   ],
   "source": [
    "import numpy as np\n",
    "from numpy.polynomial.polynomial import polyfit\n",
    "\n",
    "b, m = polyfit(gpa_copy, prob_dis, 1)\n",
    "plt.plot(gpa_copy, prob_dis)\n",
    "plt.plot(gpa_copy, b + m * gpa_copy, '-')\n",
    "plt.show()\n"
   ]
  },
  {
   "cell_type": "code",
   "execution_count": 20,
   "metadata": {},
   "outputs": [],
   "source": [
    "gpa_2 = gpa.sort_values()\n",
    "gpa_2 = gpa_2.iloc[4:]\n",
    "gpa_2 = gpa_2.round(decimals=1)\n",
    "counts = gpa_2.value_counts()\n",
    "gpas = gpa_2.drop_duplicates()"
   ]
  },
  {
   "cell_type": "code",
   "execution_count": 27,
   "metadata": {},
   "outputs": [
    {
     "data": {
      "text/plain": [
       "<matplotlib.axes._subplots.AxesSubplot at 0x2d4402ef5f8>"
      ]
     },
     "execution_count": 27,
     "metadata": {},
     "output_type": "execute_result"
    },
    {
     "data": {
      "image/png": "[encoded data removed]",
      "text/plain": [
       "<Figure size 432x288 with 1 Axes>"
      ]
     },
     "metadata": {},
     "output_type": "display_data"
    }
   ],
   "source": [
    "counts = counts.sort_index()\n",
    "\n",
    "counts.plot(kind = 'bar')\n"
   ]
  },
  {
   "cell_type": "code",
   "execution_count": null,
   "metadata": {},
   "outputs": [],
   "source": []
  }
 ],
 "metadata": {
  "kernelspec": {
   "display_name": "Python 3",
   "language": "python",
   "name": "python3"
  },
  "language_info": {
   "codemirror_mode": {
    "name": "ipython",
    "version": 3
   },
   "file_extension": ".py",
   "mimetype": "text/x-python",
   "name": "python",
   "nbconvert_exporter": "python",
   "pygments_lexer": "ipython3",
   "version": "3.6.5"
  }
 },
 "nbformat": 4,
 "nbformat_minor": 2
}
