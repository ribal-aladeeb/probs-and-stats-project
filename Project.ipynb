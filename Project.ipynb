{
 "cells": [
  {
   "cell_type": "markdown",
   "metadata": {},
   "source": [
    "# Stats Project"
   ]
  },
  {
   "cell_type": "markdown",
   "metadata": {},
   "source": [
    "### First, we import the data from concordia"
   ]
  },
  {
   "cell_type": "markdown",
   "metadata": {},
   "source": [
    "Lets import all the libraries needed\n",
    "<br>Important link on csv encoding types\n",
    "https://stackoverflow.com/questions/18171739/unicodedecodeerror-when-reading-csv-file-in-pandas-with-python"
   ]
  },
  {
   "cell_type": "code",
   "execution_count": 1,
   "metadata": {},
   "outputs": [],
   "source": [
    "import pandas as pd\n",
    "import numpy as np\n",
    "import csv\n",
    "from matplotlib import pyplot as plt"
   ]
  },
  {
   "cell_type": "markdown",
   "metadata": {},
   "source": [
    "Now we create a function to load the csv file into a panda"
   ]
  },
  {
   "cell_type": "code",
   "execution_count": 3,
   "metadata": {},
   "outputs": [],
   "source": [
    "course_catalog = pd.read_csv(\"course_catalog.csv\", encoding = \"ISO-8859-1\")"
   ]
  },
  {
   "cell_type": "code",
   "execution_count": 4,
   "metadata": {},
   "outputs": [
    {
     "data": {
      "text/html": [
       "<div>\n",
       "<style scoped>\n",
       "    .dataframe tbody tr th:only-of-type {\n",
       "        vertical-align: middle;\n",
       "    }\n",
       "\n",
       "    .dataframe tbody tr th {\n",
       "        vertical-align: top;\n",
       "    }\n",
       "\n",
       "    .dataframe thead th {\n",
       "        text-align: right;\n",
       "    }\n",
       "</style>\n",
       "<table border=\"1\" class=\"dataframe\">\n",
       "  <thead>\n",
       "    <tr style=\"text-align: right;\">\n",
       "      <th></th>\n",
       "      <th>Course ID</th>\n",
       "      <th>Subject</th>\n",
       "      <th>Catalog</th>\n",
       "      <th>Long Title</th>\n",
       "      <th>Class Units</th>\n",
       "      <th>Component Code</th>\n",
       "      <th>Component Descr</th>\n",
       "      <th>Pre Requisite Description</th>\n",
       "      <th>Career</th>\n",
       "      <th>Equivalent Courses</th>\n",
       "    </tr>\n",
       "  </thead>\n",
       "  <tbody>\n",
       "    <tr>\n",
       "      <th>0</th>\n",
       "      <td>26</td>\n",
       "      <td>ACCO</td>\n",
       "      <td>220</td>\n",
       "      <td>Financial and Managerial Accounting</td>\n",
       "      <td>3.0</td>\n",
       "      <td>LEC</td>\n",
       "      <td>Lecture</td>\n",
       "      <td>Never Taken/Not Registered: ACCO213, ACCO21...</td>\n",
       "      <td>UGRD</td>\n",
       "      <td>NaN</td>\n",
       "    </tr>\n",
       "    <tr>\n",
       "      <th>1</th>\n",
       "      <td>27</td>\n",
       "      <td>ACCO</td>\n",
       "      <td>230</td>\n",
       "      <td>Introduction to Financial Accounting</td>\n",
       "      <td>3.0</td>\n",
       "      <td>LEC</td>\n",
       "      <td>Lecture</td>\n",
       "      <td>Never Taken/Not Registered: ACCO213, ACCO22...</td>\n",
       "      <td>UGRD</td>\n",
       "      <td>NaN</td>\n",
       "    </tr>\n",
       "    <tr>\n",
       "      <th>2</th>\n",
       "      <td>28</td>\n",
       "      <td>ACCO</td>\n",
       "      <td>240</td>\n",
       "      <td>Introduction to Managerial Accounting</td>\n",
       "      <td>3.0</td>\n",
       "      <td>LEC</td>\n",
       "      <td>Lecture</td>\n",
       "      <td>Never Taken/Not Registered: ACCO218, ACCO22...</td>\n",
       "      <td>UGRD</td>\n",
       "      <td>NaN</td>\n",
       "    </tr>\n",
       "    <tr>\n",
       "      <th>3</th>\n",
       "      <td>35</td>\n",
       "      <td>ACCO</td>\n",
       "      <td>310</td>\n",
       "      <td>Financial Reporting I</td>\n",
       "      <td>3.0</td>\n",
       "      <td>LEC</td>\n",
       "      <td>Lecture</td>\n",
       "      <td>Course Corequisite: One of (COMM305, ACCO218, ...</td>\n",
       "      <td>UGRD</td>\n",
       "      <td>ACCO 310 = ACCO 323</td>\n",
       "    </tr>\n",
       "    <tr>\n",
       "      <th>4</th>\n",
       "      <td>43</td>\n",
       "      <td>ACCO</td>\n",
       "      <td>320</td>\n",
       "      <td>Financial Reporting II</td>\n",
       "      <td>3.0</td>\n",
       "      <td>LEC</td>\n",
       "      <td>Lecture</td>\n",
       "      <td>Course Prerequisite: One of (ACCO310, ACCO323)...</td>\n",
       "      <td>UGRD</td>\n",
       "      <td>ACCO 320 = ACCO 326</td>\n",
       "    </tr>\n",
       "  </tbody>\n",
       "</table>\n",
       "</div>"
      ],
      "text/plain": [
       "   Course ID Subject Catalog                             Long Title  \\\n",
       "0         26    ACCO     220    Financial and Managerial Accounting   \n",
       "1         27    ACCO     230   Introduction to Financial Accounting   \n",
       "2         28    ACCO     240  Introduction to Managerial Accounting   \n",
       "3         35    ACCO     310                  Financial Reporting I   \n",
       "4         43    ACCO     320                 Financial Reporting II   \n",
       "\n",
       "   Class Units Component Code Component Descr  \\\n",
       "0          3.0            LEC         Lecture   \n",
       "1          3.0            LEC         Lecture   \n",
       "2          3.0            LEC         Lecture   \n",
       "3          3.0            LEC         Lecture   \n",
       "4          3.0            LEC         Lecture   \n",
       "\n",
       "                           Pre Requisite Description Career  \\\n",
       "0     Never Taken/Not Registered: ACCO213, ACCO21...   UGRD   \n",
       "1     Never Taken/Not Registered: ACCO213, ACCO22...   UGRD   \n",
       "2     Never Taken/Not Registered: ACCO218, ACCO22...   UGRD   \n",
       "3  Course Corequisite: One of (COMM305, ACCO218, ...   UGRD   \n",
       "4  Course Prerequisite: One of (ACCO310, ACCO323)...   UGRD   \n",
       "\n",
       "    Equivalent Courses  \n",
       "0                  NaN  \n",
       "1                  NaN  \n",
       "2                  NaN  \n",
       "3  ACCO 310 = ACCO 323  \n",
       "4  ACCO 320 = ACCO 326  "
      ]
     },
     "execution_count": 4,
     "metadata": {},
     "output_type": "execute_result"
    }
   ],
   "source": [
    "course_catalog.head()"
   ]
  },
  {
   "cell_type": "code",
   "execution_count": 5,
   "metadata": {},
   "outputs": [
    {
     "name": "stdout",
     "output_type": "stream",
     "text": [
      "There are 8117 courses.\n"
     ]
    }
   ],
   "source": [
    "print(\"There are\", len(course_catalog['Course ID']), \"courses.\")\n",
    "#course_catalog.groupby('Subject').sum()[['Class Units']]\n"
   ]
  },
  {
   "cell_type": "code",
   "execution_count": null,
   "metadata": {},
   "outputs": [],
   "source": []
  },
  {
   "cell_type": "markdown",
   "metadata": {},
   "source": [
    "On the side, we can also do it this way instead."
   ]
  },
  {
   "cell_type": "code",
   "execution_count": 6,
   "metadata": {},
   "outputs": [
    {
     "name": "stdout",
     "output_type": "stream",
     "text": [
      "['Course ID', 'Subject', 'Catalog', 'Long Title', 'Class Units', 'Component Code', 'Component Descr', 'Pre Requisite Description', 'Career', 'Equivalent Courses']\n",
      "There are  182  courses in the Undergraduate elec program\n"
     ]
    }
   ],
   "source": [
    "filename = \"course_catalog.csv\"\n",
    "subjects, catalogs, pre_requesites, courses, elec_courses = [], [], [], [], []\n",
    "with open(filename) as f:\n",
    "    reader = csv.reader(f)\n",
    "    header_row = next(reader)\n",
    "    print(header_row)\n",
    "\n",
    "    for row in reader:\n",
    "        try:\n",
    "            subject = row[1]\n",
    "            catalog = row[2]\n",
    "            pre_requesite = row[7]\n",
    "        except ValueError:\n",
    "            print(\"Missing value or invalid data\")\n",
    "        else:\n",
    "            subjects.append(subject)\n",
    "            catalogs.append(catalog)\n",
    "            pre_requesites.append(pre_requesite)\n",
    "\n",
    "arr = [2,3,4,5]\n",
    "for i in range(len(subjects)):\n",
    "    course = (subjects[i] + \" \" + catalogs[i])\n",
    "    courses.append(course)\n",
    "    if (subjects[i] == 'ELEC'):\n",
    "        elec_courses.append(course)\n",
    "\n",
    "print(\"There are \", len(elec_courses), \" courses in the Undergraduate elec program\")"
   ]
  },
  {
   "cell_type": "code",
   "execution_count": null,
   "metadata": {},
   "outputs": [],
   "source": []
  }
 ],
 "metadata": {
  "kernelspec": {
   "display_name": "Python 3",
   "language": "python",
   "name": "python3"
  },
  "language_info": {
   "codemirror_mode": {
    "name": "ipython",
    "version": 3
   },
   "file_extension": ".py",
   "mimetype": "text/x-python",
   "name": "python",
   "nbconvert_exporter": "python",
   "pygments_lexer": "ipython3",
   "version": "3.6.5"
  }
 },
 "nbformat": 4,
 "nbformat_minor": 2
}
